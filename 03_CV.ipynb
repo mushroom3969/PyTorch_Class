{
  "nbformat": 4,
  "nbformat_minor": 0,
  "metadata": {
    "colab": {
      "provenance": [],
      "gpuType": "T4",
      "include_colab_link": true
    },
    "kernelspec": {
      "name": "python3",
      "display_name": "Python 3"
    },
    "language_info": {
      "name": "python"
    },
    "accelerator": "GPU",
    "widgets": {
      "application/vnd.jupyter.widget-state+json": {
        "485c5f4f9c5048bea5ee3f0b26d7ca64": {
          "model_module": "@jupyter-widgets/controls",
          "model_name": "HBoxModel",
          "model_module_version": "1.5.0",
          "state": {
            "_dom_classes": [],
            "_model_module": "@jupyter-widgets/controls",
            "_model_module_version": "1.5.0",
            "_model_name": "HBoxModel",
            "_view_count": null,
            "_view_module": "@jupyter-widgets/controls",
            "_view_module_version": "1.5.0",
            "_view_name": "HBoxView",
            "box_style": "",
            "children": [
              "IPY_MODEL_77132a473dc24cdbb58b951692e487f2",
              "IPY_MODEL_d53bd2842eb64bafa5f9aa9f6fd3324f",
              "IPY_MODEL_e11b15514f674e66871a4867aac13328"
            ],
            "layout": "IPY_MODEL_b70d96685ece4fe89444b92f2b46795d"
          }
        },
        "77132a473dc24cdbb58b951692e487f2": {
          "model_module": "@jupyter-widgets/controls",
          "model_name": "HTMLModel",
          "model_module_version": "1.5.0",
          "state": {
            "_dom_classes": [],
            "_model_module": "@jupyter-widgets/controls",
            "_model_module_version": "1.5.0",
            "_model_name": "HTMLModel",
            "_view_count": null,
            "_view_module": "@jupyter-widgets/controls",
            "_view_module_version": "1.5.0",
            "_view_name": "HTMLView",
            "description": "",
            "description_tooltip": null,
            "layout": "IPY_MODEL_3f18561799764ac6aa1be407ed846904",
            "placeholder": "​",
            "style": "IPY_MODEL_518e10938d024740a8e491ad6130e1fd",
            "value": "100%"
          }
        },
        "d53bd2842eb64bafa5f9aa9f6fd3324f": {
          "model_module": "@jupyter-widgets/controls",
          "model_name": "FloatProgressModel",
          "model_module_version": "1.5.0",
          "state": {
            "_dom_classes": [],
            "_model_module": "@jupyter-widgets/controls",
            "_model_module_version": "1.5.0",
            "_model_name": "FloatProgressModel",
            "_view_count": null,
            "_view_module": "@jupyter-widgets/controls",
            "_view_module_version": "1.5.0",
            "_view_name": "ProgressView",
            "bar_style": "success",
            "description": "",
            "description_tooltip": null,
            "layout": "IPY_MODEL_8387e02f4c45499b84fedf88a53e02fc",
            "max": 3,
            "min": 0,
            "orientation": "horizontal",
            "style": "IPY_MODEL_96104a3127644f76a140b8eb58376dcf",
            "value": 3
          }
        },
        "e11b15514f674e66871a4867aac13328": {
          "model_module": "@jupyter-widgets/controls",
          "model_name": "HTMLModel",
          "model_module_version": "1.5.0",
          "state": {
            "_dom_classes": [],
            "_model_module": "@jupyter-widgets/controls",
            "_model_module_version": "1.5.0",
            "_model_name": "HTMLModel",
            "_view_count": null,
            "_view_module": "@jupyter-widgets/controls",
            "_view_module_version": "1.5.0",
            "_view_name": "HTMLView",
            "description": "",
            "description_tooltip": null,
            "layout": "IPY_MODEL_348373f3902c48ee9d2ba42264fdd10f",
            "placeholder": "​",
            "style": "IPY_MODEL_0b90a76a61554af5844c50ae1cb65bb3",
            "value": " 3/3 [00:28&lt;00:00,  9.49s/it]"
          }
        },
        "b70d96685ece4fe89444b92f2b46795d": {
          "model_module": "@jupyter-widgets/base",
          "model_name": "LayoutModel",
          "model_module_version": "1.2.0",
          "state": {
            "_model_module": "@jupyter-widgets/base",
            "_model_module_version": "1.2.0",
            "_model_name": "LayoutModel",
            "_view_count": null,
            "_view_module": "@jupyter-widgets/base",
            "_view_module_version": "1.2.0",
            "_view_name": "LayoutView",
            "align_content": null,
            "align_items": null,
            "align_self": null,
            "border": null,
            "bottom": null,
            "display": null,
            "flex": null,
            "flex_flow": null,
            "grid_area": null,
            "grid_auto_columns": null,
            "grid_auto_flow": null,
            "grid_auto_rows": null,
            "grid_column": null,
            "grid_gap": null,
            "grid_row": null,
            "grid_template_areas": null,
            "grid_template_columns": null,
            "grid_template_rows": null,
            "height": null,
            "justify_content": null,
            "justify_items": null,
            "left": null,
            "margin": null,
            "max_height": null,
            "max_width": null,
            "min_height": null,
            "min_width": null,
            "object_fit": null,
            "object_position": null,
            "order": null,
            "overflow": null,
            "overflow_x": null,
            "overflow_y": null,
            "padding": null,
            "right": null,
            "top": null,
            "visibility": null,
            "width": null
          }
        },
        "3f18561799764ac6aa1be407ed846904": {
          "model_module": "@jupyter-widgets/base",
          "model_name": "LayoutModel",
          "model_module_version": "1.2.0",
          "state": {
            "_model_module": "@jupyter-widgets/base",
            "_model_module_version": "1.2.0",
            "_model_name": "LayoutModel",
            "_view_count": null,
            "_view_module": "@jupyter-widgets/base",
            "_view_module_version": "1.2.0",
            "_view_name": "LayoutView",
            "align_content": null,
            "align_items": null,
            "align_self": null,
            "border": null,
            "bottom": null,
            "display": null,
            "flex": null,
            "flex_flow": null,
            "grid_area": null,
            "grid_auto_columns": null,
            "grid_auto_flow": null,
            "grid_auto_rows": null,
            "grid_column": null,
            "grid_gap": null,
            "grid_row": null,
            "grid_template_areas": null,
            "grid_template_columns": null,
            "grid_template_rows": null,
            "height": null,
            "justify_content": null,
            "justify_items": null,
            "left": null,
            "margin": null,
            "max_height": null,
            "max_width": null,
            "min_height": null,
            "min_width": null,
            "object_fit": null,
            "object_position": null,
            "order": null,
            "overflow": null,
            "overflow_x": null,
            "overflow_y": null,
            "padding": null,
            "right": null,
            "top": null,
            "visibility": null,
            "width": null
          }
        },
        "518e10938d024740a8e491ad6130e1fd": {
          "model_module": "@jupyter-widgets/controls",
          "model_name": "DescriptionStyleModel",
          "model_module_version": "1.5.0",
          "state": {
            "_model_module": "@jupyter-widgets/controls",
            "_model_module_version": "1.5.0",
            "_model_name": "DescriptionStyleModel",
            "_view_count": null,
            "_view_module": "@jupyter-widgets/base",
            "_view_module_version": "1.2.0",
            "_view_name": "StyleView",
            "description_width": ""
          }
        },
        "8387e02f4c45499b84fedf88a53e02fc": {
          "model_module": "@jupyter-widgets/base",
          "model_name": "LayoutModel",
          "model_module_version": "1.2.0",
          "state": {
            "_model_module": "@jupyter-widgets/base",
            "_model_module_version": "1.2.0",
            "_model_name": "LayoutModel",
            "_view_count": null,
            "_view_module": "@jupyter-widgets/base",
            "_view_module_version": "1.2.0",
            "_view_name": "LayoutView",
            "align_content": null,
            "align_items": null,
            "align_self": null,
            "border": null,
            "bottom": null,
            "display": null,
            "flex": null,
            "flex_flow": null,
            "grid_area": null,
            "grid_auto_columns": null,
            "grid_auto_flow": null,
            "grid_auto_rows": null,
            "grid_column": null,
            "grid_gap": null,
            "grid_row": null,
            "grid_template_areas": null,
            "grid_template_columns": null,
            "grid_template_rows": null,
            "height": null,
            "justify_content": null,
            "justify_items": null,
            "left": null,
            "margin": null,
            "max_height": null,
            "max_width": null,
            "min_height": null,
            "min_width": null,
            "object_fit": null,
            "object_position": null,
            "order": null,
            "overflow": null,
            "overflow_x": null,
            "overflow_y": null,
            "padding": null,
            "right": null,
            "top": null,
            "visibility": null,
            "width": null
          }
        },
        "96104a3127644f76a140b8eb58376dcf": {
          "model_module": "@jupyter-widgets/controls",
          "model_name": "ProgressStyleModel",
          "model_module_version": "1.5.0",
          "state": {
            "_model_module": "@jupyter-widgets/controls",
            "_model_module_version": "1.5.0",
            "_model_name": "ProgressStyleModel",
            "_view_count": null,
            "_view_module": "@jupyter-widgets/base",
            "_view_module_version": "1.2.0",
            "_view_name": "StyleView",
            "bar_color": null,
            "description_width": ""
          }
        },
        "348373f3902c48ee9d2ba42264fdd10f": {
          "model_module": "@jupyter-widgets/base",
          "model_name": "LayoutModel",
          "model_module_version": "1.2.0",
          "state": {
            "_model_module": "@jupyter-widgets/base",
            "_model_module_version": "1.2.0",
            "_model_name": "LayoutModel",
            "_view_count": null,
            "_view_module": "@jupyter-widgets/base",
            "_view_module_version": "1.2.0",
            "_view_name": "LayoutView",
            "align_content": null,
            "align_items": null,
            "align_self": null,
            "border": null,
            "bottom": null,
            "display": null,
            "flex": null,
            "flex_flow": null,
            "grid_area": null,
            "grid_auto_columns": null,
            "grid_auto_flow": null,
            "grid_auto_rows": null,
            "grid_column": null,
            "grid_gap": null,
            "grid_row": null,
            "grid_template_areas": null,
            "grid_template_columns": null,
            "grid_template_rows": null,
            "height": null,
            "justify_content": null,
            "justify_items": null,
            "left": null,
            "margin": null,
            "max_height": null,
            "max_width": null,
            "min_height": null,
            "min_width": null,
            "object_fit": null,
            "object_position": null,
            "order": null,
            "overflow": null,
            "overflow_x": null,
            "overflow_y": null,
            "padding": null,
            "right": null,
            "top": null,
            "visibility": null,
            "width": null
          }
        },
        "0b90a76a61554af5844c50ae1cb65bb3": {
          "model_module": "@jupyter-widgets/controls",
          "model_name": "DescriptionStyleModel",
          "model_module_version": "1.5.0",
          "state": {
            "_model_module": "@jupyter-widgets/controls",
            "_model_module_version": "1.5.0",
            "_model_name": "DescriptionStyleModel",
            "_view_count": null,
            "_view_module": "@jupyter-widgets/base",
            "_view_module_version": "1.2.0",
            "_view_name": "StyleView",
            "description_width": ""
          }
        },
        "ae518ebb8e9c41049a3f6c16fc699c83": {
          "model_module": "@jupyter-widgets/controls",
          "model_name": "HBoxModel",
          "model_module_version": "1.5.0",
          "state": {
            "_dom_classes": [],
            "_model_module": "@jupyter-widgets/controls",
            "_model_module_version": "1.5.0",
            "_model_name": "HBoxModel",
            "_view_count": null,
            "_view_module": "@jupyter-widgets/controls",
            "_view_module_version": "1.5.0",
            "_view_name": "HBoxView",
            "box_style": "",
            "children": [
              "IPY_MODEL_690ab457765b4cf49ff6e68abbad940d",
              "IPY_MODEL_64001dfb2c50427cb5dbe04cc47d5dc9",
              "IPY_MODEL_dbf76302a88041a2a570a10bfa733574"
            ],
            "layout": "IPY_MODEL_3af6729497a4443384bca7670c53ff1f"
          }
        },
        "690ab457765b4cf49ff6e68abbad940d": {
          "model_module": "@jupyter-widgets/controls",
          "model_name": "HTMLModel",
          "model_module_version": "1.5.0",
          "state": {
            "_dom_classes": [],
            "_model_module": "@jupyter-widgets/controls",
            "_model_module_version": "1.5.0",
            "_model_name": "HTMLModel",
            "_view_count": null,
            "_view_module": "@jupyter-widgets/controls",
            "_view_module_version": "1.5.0",
            "_view_name": "HTMLView",
            "description": "",
            "description_tooltip": null,
            "layout": "IPY_MODEL_d1ddfaed5e8342a395cb3d6824e54793",
            "placeholder": "​",
            "style": "IPY_MODEL_f757cb46020f4f0891d6c1b86b3e8422",
            "value": "100%"
          }
        },
        "64001dfb2c50427cb5dbe04cc47d5dc9": {
          "model_module": "@jupyter-widgets/controls",
          "model_name": "FloatProgressModel",
          "model_module_version": "1.5.0",
          "state": {
            "_dom_classes": [],
            "_model_module": "@jupyter-widgets/controls",
            "_model_module_version": "1.5.0",
            "_model_name": "FloatProgressModel",
            "_view_count": null,
            "_view_module": "@jupyter-widgets/controls",
            "_view_module_version": "1.5.0",
            "_view_name": "ProgressView",
            "bar_style": "success",
            "description": "",
            "description_tooltip": null,
            "layout": "IPY_MODEL_a5fe7bfffc884008b58e1f38fb7e5984",
            "max": 313,
            "min": 0,
            "orientation": "horizontal",
            "style": "IPY_MODEL_b4d2ba132ca1478aaeef6f7a88526bd5",
            "value": 313
          }
        },
        "dbf76302a88041a2a570a10bfa733574": {
          "model_module": "@jupyter-widgets/controls",
          "model_name": "HTMLModel",
          "model_module_version": "1.5.0",
          "state": {
            "_dom_classes": [],
            "_model_module": "@jupyter-widgets/controls",
            "_model_module_version": "1.5.0",
            "_model_name": "HTMLModel",
            "_view_count": null,
            "_view_module": "@jupyter-widgets/controls",
            "_view_module_version": "1.5.0",
            "_view_name": "HTMLView",
            "description": "",
            "description_tooltip": null,
            "layout": "IPY_MODEL_332af791a06e488c9f75ce32e2b34c5a",
            "placeholder": "​",
            "style": "IPY_MODEL_ab127c18fc2e415fa26b31b0b12636b6",
            "value": " 313/313 [00:01&lt;00:00, 293.69it/s]"
          }
        },
        "3af6729497a4443384bca7670c53ff1f": {
          "model_module": "@jupyter-widgets/base",
          "model_name": "LayoutModel",
          "model_module_version": "1.2.0",
          "state": {
            "_model_module": "@jupyter-widgets/base",
            "_model_module_version": "1.2.0",
            "_model_name": "LayoutModel",
            "_view_count": null,
            "_view_module": "@jupyter-widgets/base",
            "_view_module_version": "1.2.0",
            "_view_name": "LayoutView",
            "align_content": null,
            "align_items": null,
            "align_self": null,
            "border": null,
            "bottom": null,
            "display": null,
            "flex": null,
            "flex_flow": null,
            "grid_area": null,
            "grid_auto_columns": null,
            "grid_auto_flow": null,
            "grid_auto_rows": null,
            "grid_column": null,
            "grid_gap": null,
            "grid_row": null,
            "grid_template_areas": null,
            "grid_template_columns": null,
            "grid_template_rows": null,
            "height": null,
            "justify_content": null,
            "justify_items": null,
            "left": null,
            "margin": null,
            "max_height": null,
            "max_width": null,
            "min_height": null,
            "min_width": null,
            "object_fit": null,
            "object_position": null,
            "order": null,
            "overflow": null,
            "overflow_x": null,
            "overflow_y": null,
            "padding": null,
            "right": null,
            "top": null,
            "visibility": null,
            "width": null
          }
        },
        "d1ddfaed5e8342a395cb3d6824e54793": {
          "model_module": "@jupyter-widgets/base",
          "model_name": "LayoutModel",
          "model_module_version": "1.2.0",
          "state": {
            "_model_module": "@jupyter-widgets/base",
            "_model_module_version": "1.2.0",
            "_model_name": "LayoutModel",
            "_view_count": null,
            "_view_module": "@jupyter-widgets/base",
            "_view_module_version": "1.2.0",
            "_view_name": "LayoutView",
            "align_content": null,
            "align_items": null,
            "align_self": null,
            "border": null,
            "bottom": null,
            "display": null,
            "flex": null,
            "flex_flow": null,
            "grid_area": null,
            "grid_auto_columns": null,
            "grid_auto_flow": null,
            "grid_auto_rows": null,
            "grid_column": null,
            "grid_gap": null,
            "grid_row": null,
            "grid_template_areas": null,
            "grid_template_columns": null,
            "grid_template_rows": null,
            "height": null,
            "justify_content": null,
            "justify_items": null,
            "left": null,
            "margin": null,
            "max_height": null,
            "max_width": null,
            "min_height": null,
            "min_width": null,
            "object_fit": null,
            "object_position": null,
            "order": null,
            "overflow": null,
            "overflow_x": null,
            "overflow_y": null,
            "padding": null,
            "right": null,
            "top": null,
            "visibility": null,
            "width": null
          }
        },
        "f757cb46020f4f0891d6c1b86b3e8422": {
          "model_module": "@jupyter-widgets/controls",
          "model_name": "DescriptionStyleModel",
          "model_module_version": "1.5.0",
          "state": {
            "_model_module": "@jupyter-widgets/controls",
            "_model_module_version": "1.5.0",
            "_model_name": "DescriptionStyleModel",
            "_view_count": null,
            "_view_module": "@jupyter-widgets/base",
            "_view_module_version": "1.2.0",
            "_view_name": "StyleView",
            "description_width": ""
          }
        },
        "a5fe7bfffc884008b58e1f38fb7e5984": {
          "model_module": "@jupyter-widgets/base",
          "model_name": "LayoutModel",
          "model_module_version": "1.2.0",
          "state": {
            "_model_module": "@jupyter-widgets/base",
            "_model_module_version": "1.2.0",
            "_model_name": "LayoutModel",
            "_view_count": null,
            "_view_module": "@jupyter-widgets/base",
            "_view_module_version": "1.2.0",
            "_view_name": "LayoutView",
            "align_content": null,
            "align_items": null,
            "align_self": null,
            "border": null,
            "bottom": null,
            "display": null,
            "flex": null,
            "flex_flow": null,
            "grid_area": null,
            "grid_auto_columns": null,
            "grid_auto_flow": null,
            "grid_auto_rows": null,
            "grid_column": null,
            "grid_gap": null,
            "grid_row": null,
            "grid_template_areas": null,
            "grid_template_columns": null,
            "grid_template_rows": null,
            "height": null,
            "justify_content": null,
            "justify_items": null,
            "left": null,
            "margin": null,
            "max_height": null,
            "max_width": null,
            "min_height": null,
            "min_width": null,
            "object_fit": null,
            "object_position": null,
            "order": null,
            "overflow": null,
            "overflow_x": null,
            "overflow_y": null,
            "padding": null,
            "right": null,
            "top": null,
            "visibility": null,
            "width": null
          }
        },
        "b4d2ba132ca1478aaeef6f7a88526bd5": {
          "model_module": "@jupyter-widgets/controls",
          "model_name": "ProgressStyleModel",
          "model_module_version": "1.5.0",
          "state": {
            "_model_module": "@jupyter-widgets/controls",
            "_model_module_version": "1.5.0",
            "_model_name": "ProgressStyleModel",
            "_view_count": null,
            "_view_module": "@jupyter-widgets/base",
            "_view_module_version": "1.2.0",
            "_view_name": "StyleView",
            "bar_color": null,
            "description_width": ""
          }
        },
        "332af791a06e488c9f75ce32e2b34c5a": {
          "model_module": "@jupyter-widgets/base",
          "model_name": "LayoutModel",
          "model_module_version": "1.2.0",
          "state": {
            "_model_module": "@jupyter-widgets/base",
            "_model_module_version": "1.2.0",
            "_model_name": "LayoutModel",
            "_view_count": null,
            "_view_module": "@jupyter-widgets/base",
            "_view_module_version": "1.2.0",
            "_view_name": "LayoutView",
            "align_content": null,
            "align_items": null,
            "align_self": null,
            "border": null,
            "bottom": null,
            "display": null,
            "flex": null,
            "flex_flow": null,
            "grid_area": null,
            "grid_auto_columns": null,
            "grid_auto_flow": null,
            "grid_auto_rows": null,
            "grid_column": null,
            "grid_gap": null,
            "grid_row": null,
            "grid_template_areas": null,
            "grid_template_columns": null,
            "grid_template_rows": null,
            "height": null,
            "justify_content": null,
            "justify_items": null,
            "left": null,
            "margin": null,
            "max_height": null,
            "max_width": null,
            "min_height": null,
            "min_width": null,
            "object_fit": null,
            "object_position": null,
            "order": null,
            "overflow": null,
            "overflow_x": null,
            "overflow_y": null,
            "padding": null,
            "right": null,
            "top": null,
            "visibility": null,
            "width": null
          }
        },
        "ab127c18fc2e415fa26b31b0b12636b6": {
          "model_module": "@jupyter-widgets/controls",
          "model_name": "DescriptionStyleModel",
          "model_module_version": "1.5.0",
          "state": {
            "_model_module": "@jupyter-widgets/controls",
            "_model_module_version": "1.5.0",
            "_model_name": "DescriptionStyleModel",
            "_view_count": null,
            "_view_module": "@jupyter-widgets/base",
            "_view_module_version": "1.2.0",
            "_view_name": "StyleView",
            "description_width": ""
          }
        },
        "1f4a764ee2604b87ae193136016b403e": {
          "model_module": "@jupyter-widgets/controls",
          "model_name": "HBoxModel",
          "model_module_version": "1.5.0",
          "state": {
            "_dom_classes": [],
            "_model_module": "@jupyter-widgets/controls",
            "_model_module_version": "1.5.0",
            "_model_name": "HBoxModel",
            "_view_count": null,
            "_view_module": "@jupyter-widgets/controls",
            "_view_module_version": "1.5.0",
            "_view_name": "HBoxView",
            "box_style": "",
            "children": [
              "IPY_MODEL_e07c9f907b9e46a390e3dba4d260f28c",
              "IPY_MODEL_d5a14b38afed41549d9d359a6ddd0ece",
              "IPY_MODEL_7cca3ff1e2fc43999216ff03cdb4ddec"
            ],
            "layout": "IPY_MODEL_d269876ccd6b481d92c6c3040ab26642"
          }
        },
        "e07c9f907b9e46a390e3dba4d260f28c": {
          "model_module": "@jupyter-widgets/controls",
          "model_name": "HTMLModel",
          "model_module_version": "1.5.0",
          "state": {
            "_dom_classes": [],
            "_model_module": "@jupyter-widgets/controls",
            "_model_module_version": "1.5.0",
            "_model_name": "HTMLModel",
            "_view_count": null,
            "_view_module": "@jupyter-widgets/controls",
            "_view_module_version": "1.5.0",
            "_view_name": "HTMLView",
            "description": "",
            "description_tooltip": null,
            "layout": "IPY_MODEL_48f0983b00ac4e9da2d9f2152a32b7f9",
            "placeholder": "​",
            "style": "IPY_MODEL_a9bfe390555e4f5faa6e2d04b16979c6",
            "value": "100%"
          }
        },
        "d5a14b38afed41549d9d359a6ddd0ece": {
          "model_module": "@jupyter-widgets/controls",
          "model_name": "FloatProgressModel",
          "model_module_version": "1.5.0",
          "state": {
            "_dom_classes": [],
            "_model_module": "@jupyter-widgets/controls",
            "_model_module_version": "1.5.0",
            "_model_name": "FloatProgressModel",
            "_view_count": null,
            "_view_module": "@jupyter-widgets/controls",
            "_view_module_version": "1.5.0",
            "_view_name": "ProgressView",
            "bar_style": "success",
            "description": "",
            "description_tooltip": null,
            "layout": "IPY_MODEL_709696332a39467abcf0a80ea826a261",
            "max": 3,
            "min": 0,
            "orientation": "horizontal",
            "style": "IPY_MODEL_fcbbc7ba5af44d1db2568b5e234cfc7b",
            "value": 3
          }
        },
        "7cca3ff1e2fc43999216ff03cdb4ddec": {
          "model_module": "@jupyter-widgets/controls",
          "model_name": "HTMLModel",
          "model_module_version": "1.5.0",
          "state": {
            "_dom_classes": [],
            "_model_module": "@jupyter-widgets/controls",
            "_model_module_version": "1.5.0",
            "_model_name": "HTMLModel",
            "_view_count": null,
            "_view_module": "@jupyter-widgets/controls",
            "_view_module_version": "1.5.0",
            "_view_name": "HTMLView",
            "description": "",
            "description_tooltip": null,
            "layout": "IPY_MODEL_0b4174e754d04e6f95e2d152d13a9888",
            "placeholder": "​",
            "style": "IPY_MODEL_027da619bfd043a0aa517a48e1131b95",
            "value": " 3/3 [00:47&lt;00:00, 15.91s/it]"
          }
        },
        "d269876ccd6b481d92c6c3040ab26642": {
          "model_module": "@jupyter-widgets/base",
          "model_name": "LayoutModel",
          "model_module_version": "1.2.0",
          "state": {
            "_model_module": "@jupyter-widgets/base",
            "_model_module_version": "1.2.0",
            "_model_name": "LayoutModel",
            "_view_count": null,
            "_view_module": "@jupyter-widgets/base",
            "_view_module_version": "1.2.0",
            "_view_name": "LayoutView",
            "align_content": null,
            "align_items": null,
            "align_self": null,
            "border": null,
            "bottom": null,
            "display": null,
            "flex": null,
            "flex_flow": null,
            "grid_area": null,
            "grid_auto_columns": null,
            "grid_auto_flow": null,
            "grid_auto_rows": null,
            "grid_column": null,
            "grid_gap": null,
            "grid_row": null,
            "grid_template_areas": null,
            "grid_template_columns": null,
            "grid_template_rows": null,
            "height": null,
            "justify_content": null,
            "justify_items": null,
            "left": null,
            "margin": null,
            "max_height": null,
            "max_width": null,
            "min_height": null,
            "min_width": null,
            "object_fit": null,
            "object_position": null,
            "order": null,
            "overflow": null,
            "overflow_x": null,
            "overflow_y": null,
            "padding": null,
            "right": null,
            "top": null,
            "visibility": null,
            "width": null
          }
        },
        "48f0983b00ac4e9da2d9f2152a32b7f9": {
          "model_module": "@jupyter-widgets/base",
          "model_name": "LayoutModel",
          "model_module_version": "1.2.0",
          "state": {
            "_model_module": "@jupyter-widgets/base",
            "_model_module_version": "1.2.0",
            "_model_name": "LayoutModel",
            "_view_count": null,
            "_view_module": "@jupyter-widgets/base",
            "_view_module_version": "1.2.0",
            "_view_name": "LayoutView",
            "align_content": null,
            "align_items": null,
            "align_self": null,
            "border": null,
            "bottom": null,
            "display": null,
            "flex": null,
            "flex_flow": null,
            "grid_area": null,
            "grid_auto_columns": null,
            "grid_auto_flow": null,
            "grid_auto_rows": null,
            "grid_column": null,
            "grid_gap": null,
            "grid_row": null,
            "grid_template_areas": null,
            "grid_template_columns": null,
            "grid_template_rows": null,
            "height": null,
            "justify_content": null,
            "justify_items": null,
            "left": null,
            "margin": null,
            "max_height": null,
            "max_width": null,
            "min_height": null,
            "min_width": null,
            "object_fit": null,
            "object_position": null,
            "order": null,
            "overflow": null,
            "overflow_x": null,
            "overflow_y": null,
            "padding": null,
            "right": null,
            "top": null,
            "visibility": null,
            "width": null
          }
        },
        "a9bfe390555e4f5faa6e2d04b16979c6": {
          "model_module": "@jupyter-widgets/controls",
          "model_name": "DescriptionStyleModel",
          "model_module_version": "1.5.0",
          "state": {
            "_model_module": "@jupyter-widgets/controls",
            "_model_module_version": "1.5.0",
            "_model_name": "DescriptionStyleModel",
            "_view_count": null,
            "_view_module": "@jupyter-widgets/base",
            "_view_module_version": "1.2.0",
            "_view_name": "StyleView",
            "description_width": ""
          }
        },
        "709696332a39467abcf0a80ea826a261": {
          "model_module": "@jupyter-widgets/base",
          "model_name": "LayoutModel",
          "model_module_version": "1.2.0",
          "state": {
            "_model_module": "@jupyter-widgets/base",
            "_model_module_version": "1.2.0",
            "_model_name": "LayoutModel",
            "_view_count": null,
            "_view_module": "@jupyter-widgets/base",
            "_view_module_version": "1.2.0",
            "_view_name": "LayoutView",
            "align_content": null,
            "align_items": null,
            "align_self": null,
            "border": null,
            "bottom": null,
            "display": null,
            "flex": null,
            "flex_flow": null,
            "grid_area": null,
            "grid_auto_columns": null,
            "grid_auto_flow": null,
            "grid_auto_rows": null,
            "grid_column": null,
            "grid_gap": null,
            "grid_row": null,
            "grid_template_areas": null,
            "grid_template_columns": null,
            "grid_template_rows": null,
            "height": null,
            "justify_content": null,
            "justify_items": null,
            "left": null,
            "margin": null,
            "max_height": null,
            "max_width": null,
            "min_height": null,
            "min_width": null,
            "object_fit": null,
            "object_position": null,
            "order": null,
            "overflow": null,
            "overflow_x": null,
            "overflow_y": null,
            "padding": null,
            "right": null,
            "top": null,
            "visibility": null,
            "width": null
          }
        },
        "fcbbc7ba5af44d1db2568b5e234cfc7b": {
          "model_module": "@jupyter-widgets/controls",
          "model_name": "ProgressStyleModel",
          "model_module_version": "1.5.0",
          "state": {
            "_model_module": "@jupyter-widgets/controls",
            "_model_module_version": "1.5.0",
            "_model_name": "ProgressStyleModel",
            "_view_count": null,
            "_view_module": "@jupyter-widgets/base",
            "_view_module_version": "1.2.0",
            "_view_name": "StyleView",
            "bar_color": null,
            "description_width": ""
          }
        },
        "0b4174e754d04e6f95e2d152d13a9888": {
          "model_module": "@jupyter-widgets/base",
          "model_name": "LayoutModel",
          "model_module_version": "1.2.0",
          "state": {
            "_model_module": "@jupyter-widgets/base",
            "_model_module_version": "1.2.0",
            "_model_name": "LayoutModel",
            "_view_count": null,
            "_view_module": "@jupyter-widgets/base",
            "_view_module_version": "1.2.0",
            "_view_name": "LayoutView",
            "align_content": null,
            "align_items": null,
            "align_self": null,
            "border": null,
            "bottom": null,
            "display": null,
            "flex": null,
            "flex_flow": null,
            "grid_area": null,
            "grid_auto_columns": null,
            "grid_auto_flow": null,
            "grid_auto_rows": null,
            "grid_column": null,
            "grid_gap": null,
            "grid_row": null,
            "grid_template_areas": null,
            "grid_template_columns": null,
            "grid_template_rows": null,
            "height": null,
            "justify_content": null,
            "justify_items": null,
            "left": null,
            "margin": null,
            "max_height": null,
            "max_width": null,
            "min_height": null,
            "min_width": null,
            "object_fit": null,
            "object_position": null,
            "order": null,
            "overflow": null,
            "overflow_x": null,
            "overflow_y": null,
            "padding": null,
            "right": null,
            "top": null,
            "visibility": null,
            "width": null
          }
        },
        "027da619bfd043a0aa517a48e1131b95": {
          "model_module": "@jupyter-widgets/controls",
          "model_name": "DescriptionStyleModel",
          "model_module_version": "1.5.0",
          "state": {
            "_model_module": "@jupyter-widgets/controls",
            "_model_module_version": "1.5.0",
            "_model_name": "DescriptionStyleModel",
            "_view_count": null,
            "_view_module": "@jupyter-widgets/base",
            "_view_module_version": "1.2.0",
            "_view_name": "StyleView",
            "description_width": ""
          }
        }
      }
    }
  },
  "cells": [
    {
      "cell_type": "markdown",
      "metadata": {
        "id": "view-in-github",
        "colab_type": "text"
      },
      "source": [
        "<a href=\"https://colab.research.google.com/github/mushroom3969/PyTorch_Class/blob/main/03_CV.ipynb\" target=\"_parent\"><img src=\"https://colab.research.google.com/assets/colab-badge.svg\" alt=\"Open In Colab\"/></a>"
      ]
    },
    {
      "cell_type": "markdown",
      "source": [
        "# PyTorch CV"
      ],
      "metadata": {
        "id": "YgI4Ru3-B983"
      }
    },
    {
      "cell_type": "markdown",
      "source": [
        "## 0. CV library in PyTorch\n",
        "\n",
        "* `torchvision` - Base domain for PyTorch CV\n",
        "* `torchvison.dataset` - get dataset and data loading function for computer vision here\n",
        "* `torchvision.models` - get pretrained computer vision models that you can leverage for your own problems\n",
        "* `torchvision.tranform` - function for manipulating your vision data(image) to be suitable for use with an ML model\n",
        "* `torch.utils.data.Dataset` - Base dataset class for pytorch\n",
        "* `torch.utils.data.DataLoader` - Create a Python iterable over a dataset"
      ],
      "metadata": {
        "id": "C9ixCzqaCDim"
      }
    },
    {
      "cell_type": "code",
      "execution_count": 1,
      "metadata": {
        "id": "nTaZEsDFvimg",
        "colab": {
          "base_uri": "https://localhost:8080/"
        },
        "outputId": "38bf40e7-5764-4d94-e907-ccd499f08410"
      },
      "outputs": [
        {
          "output_type": "stream",
          "name": "stdout",
          "text": [
            "2.2.1+cu121\n",
            "0.17.1+cu121\n"
          ]
        }
      ],
      "source": [
        "import torch\n",
        "from torch import nn\n",
        "\n",
        "import torchvision\n",
        "from torchvision import datasets\n",
        "from torchvision import transforms\n",
        "from torchvision.transforms import ToTensor\n",
        "\n",
        "import matplotlib.pyplot as plt\n",
        "\n",
        "print(torch.__version__)\n",
        "print(torchvision.__version__)"
      ]
    },
    {
      "cell_type": "markdown",
      "source": [
        "## 1. Getting Datasets\n",
        "\n",
        "FashionMNIST"
      ],
      "metadata": {
        "id": "xpZCnhcyEnKr"
      }
    },
    {
      "cell_type": "code",
      "source": [
        "# Setup Training data\n",
        "train_data = datasets.FashionMNIST(\n",
        "    root = \"data\", #Where to download data to?\n",
        "    train = True, #do we waant the training dataset?\n",
        "    download = True, #do we want to download?\n",
        "    transform = ToTensor(), #How do we want to transform data?\n",
        "    target_transform = None #Do we want to transform data label?\n",
        ")\n",
        "\n",
        "test_data = datasets.FashionMNIST(\n",
        "    root = \"data\", #Where to download data to?\n",
        "    train = False, #do we waant the training dataset?\n",
        "    download = True, #do we want to download?\n",
        "    transform = ToTensor(), #How do we want to transform data?\n",
        "    target_transform = None #Do we want to transform data label?\n",
        ")"
      ],
      "metadata": {
        "colab": {
          "base_uri": "https://localhost:8080/"
        },
        "id": "UJwh3QdFEOcg",
        "outputId": "0a026024-c4e5-49f5-a4aa-27ae8a1c66f7"
      },
      "execution_count": 2,
      "outputs": [
        {
          "output_type": "stream",
          "name": "stdout",
          "text": [
            "Downloading http://fashion-mnist.s3-website.eu-central-1.amazonaws.com/train-images-idx3-ubyte.gz\n",
            "Downloading http://fashion-mnist.s3-website.eu-central-1.amazonaws.com/train-images-idx3-ubyte.gz to data/FashionMNIST/raw/train-images-idx3-ubyte.gz\n"
          ]
        },
        {
          "output_type": "stream",
          "name": "stderr",
          "text": [
            "100%|██████████| 26421880/26421880 [00:01<00:00, 15372058.49it/s]\n"
          ]
        },
        {
          "output_type": "stream",
          "name": "stdout",
          "text": [
            "Extracting data/FashionMNIST/raw/train-images-idx3-ubyte.gz to data/FashionMNIST/raw\n",
            "\n",
            "Downloading http://fashion-mnist.s3-website.eu-central-1.amazonaws.com/train-labels-idx1-ubyte.gz\n",
            "Downloading http://fashion-mnist.s3-website.eu-central-1.amazonaws.com/train-labels-idx1-ubyte.gz to data/FashionMNIST/raw/train-labels-idx1-ubyte.gz\n"
          ]
        },
        {
          "output_type": "stream",
          "name": "stderr",
          "text": [
            "100%|██████████| 29515/29515 [00:00<00:00, 263566.65it/s]\n"
          ]
        },
        {
          "output_type": "stream",
          "name": "stdout",
          "text": [
            "Extracting data/FashionMNIST/raw/train-labels-idx1-ubyte.gz to data/FashionMNIST/raw\n",
            "\n",
            "Downloading http://fashion-mnist.s3-website.eu-central-1.amazonaws.com/t10k-images-idx3-ubyte.gz\n",
            "Downloading http://fashion-mnist.s3-website.eu-central-1.amazonaws.com/t10k-images-idx3-ubyte.gz to data/FashionMNIST/raw/t10k-images-idx3-ubyte.gz\n"
          ]
        },
        {
          "output_type": "stream",
          "name": "stderr",
          "text": [
            "100%|██████████| 4422102/4422102 [00:00<00:00, 5090788.15it/s]\n"
          ]
        },
        {
          "output_type": "stream",
          "name": "stdout",
          "text": [
            "Extracting data/FashionMNIST/raw/t10k-images-idx3-ubyte.gz to data/FashionMNIST/raw\n",
            "\n",
            "Downloading http://fashion-mnist.s3-website.eu-central-1.amazonaws.com/t10k-labels-idx1-ubyte.gz\n",
            "Downloading http://fashion-mnist.s3-website.eu-central-1.amazonaws.com/t10k-labels-idx1-ubyte.gz to data/FashionMNIST/raw/t10k-labels-idx1-ubyte.gz\n"
          ]
        },
        {
          "output_type": "stream",
          "name": "stderr",
          "text": [
            "100%|██████████| 5148/5148 [00:00<00:00, 1299408.86it/s]"
          ]
        },
        {
          "output_type": "stream",
          "name": "stdout",
          "text": [
            "Extracting data/FashionMNIST/raw/t10k-labels-idx1-ubyte.gz to data/FashionMNIST/raw\n",
            "\n"
          ]
        },
        {
          "output_type": "stream",
          "name": "stderr",
          "text": [
            "\n"
          ]
        }
      ]
    },
    {
      "cell_type": "code",
      "source": [
        "len(train_data), len(test_data)"
      ],
      "metadata": {
        "colab": {
          "base_uri": "https://localhost:8080/"
        },
        "id": "qXs0VyYWGwRk",
        "outputId": "704d0ad2-d263-47ca-dad4-2ef923544d80"
      },
      "execution_count": 3,
      "outputs": [
        {
          "output_type": "execute_result",
          "data": {
            "text/plain": [
              "(60000, 10000)"
            ]
          },
          "metadata": {},
          "execution_count": 3
        }
      ]
    },
    {
      "cell_type": "code",
      "source": [
        "# See the first training example\n",
        "image, label = train_data[0]\n",
        "image, label"
      ],
      "metadata": {
        "colab": {
          "base_uri": "https://localhost:8080/"
        },
        "id": "a3D1RCK4HAHh",
        "outputId": "e27448c2-f5a2-4caa-f914-0ddf208319d3"
      },
      "execution_count": 4,
      "outputs": [
        {
          "output_type": "execute_result",
          "data": {
            "text/plain": [
              "(tensor([[[0.0000, 0.0000, 0.0000, 0.0000, 0.0000, 0.0000, 0.0000, 0.0000,\n",
              "           0.0000, 0.0000, 0.0000, 0.0000, 0.0000, 0.0000, 0.0000, 0.0000,\n",
              "           0.0000, 0.0000, 0.0000, 0.0000, 0.0000, 0.0000, 0.0000, 0.0000,\n",
              "           0.0000, 0.0000, 0.0000, 0.0000],\n",
              "          [0.0000, 0.0000, 0.0000, 0.0000, 0.0000, 0.0000, 0.0000, 0.0000,\n",
              "           0.0000, 0.0000, 0.0000, 0.0000, 0.0000, 0.0000, 0.0000, 0.0000,\n",
              "           0.0000, 0.0000, 0.0000, 0.0000, 0.0000, 0.0000, 0.0000, 0.0000,\n",
              "           0.0000, 0.0000, 0.0000, 0.0000],\n",
              "          [0.0000, 0.0000, 0.0000, 0.0000, 0.0000, 0.0000, 0.0000, 0.0000,\n",
              "           0.0000, 0.0000, 0.0000, 0.0000, 0.0000, 0.0000, 0.0000, 0.0000,\n",
              "           0.0000, 0.0000, 0.0000, 0.0000, 0.0000, 0.0000, 0.0000, 0.0000,\n",
              "           0.0000, 0.0000, 0.0000, 0.0000],\n",
              "          [0.0000, 0.0000, 0.0000, 0.0000, 0.0000, 0.0000, 0.0000, 0.0000,\n",
              "           0.0000, 0.0000, 0.0000, 0.0000, 0.0039, 0.0000, 0.0000, 0.0510,\n",
              "           0.2863, 0.0000, 0.0000, 0.0039, 0.0157, 0.0000, 0.0000, 0.0000,\n",
              "           0.0000, 0.0039, 0.0039, 0.0000],\n",
              "          [0.0000, 0.0000, 0.0000, 0.0000, 0.0000, 0.0000, 0.0000, 0.0000,\n",
              "           0.0000, 0.0000, 0.0000, 0.0000, 0.0118, 0.0000, 0.1412, 0.5333,\n",
              "           0.4980, 0.2431, 0.2118, 0.0000, 0.0000, 0.0000, 0.0039, 0.0118,\n",
              "           0.0157, 0.0000, 0.0000, 0.0118],\n",
              "          [0.0000, 0.0000, 0.0000, 0.0000, 0.0000, 0.0000, 0.0000, 0.0000,\n",
              "           0.0000, 0.0000, 0.0000, 0.0000, 0.0235, 0.0000, 0.4000, 0.8000,\n",
              "           0.6902, 0.5255, 0.5647, 0.4824, 0.0902, 0.0000, 0.0000, 0.0000,\n",
              "           0.0000, 0.0471, 0.0392, 0.0000],\n",
              "          [0.0000, 0.0000, 0.0000, 0.0000, 0.0000, 0.0000, 0.0000, 0.0000,\n",
              "           0.0000, 0.0000, 0.0000, 0.0000, 0.0000, 0.0000, 0.6078, 0.9255,\n",
              "           0.8118, 0.6980, 0.4196, 0.6118, 0.6314, 0.4275, 0.2510, 0.0902,\n",
              "           0.3020, 0.5098, 0.2824, 0.0588],\n",
              "          [0.0000, 0.0000, 0.0000, 0.0000, 0.0000, 0.0000, 0.0000, 0.0000,\n",
              "           0.0000, 0.0000, 0.0000, 0.0039, 0.0000, 0.2706, 0.8118, 0.8745,\n",
              "           0.8549, 0.8471, 0.8471, 0.6392, 0.4980, 0.4745, 0.4784, 0.5725,\n",
              "           0.5529, 0.3451, 0.6745, 0.2588],\n",
              "          [0.0000, 0.0000, 0.0000, 0.0000, 0.0000, 0.0000, 0.0000, 0.0000,\n",
              "           0.0000, 0.0039, 0.0039, 0.0039, 0.0000, 0.7843, 0.9098, 0.9098,\n",
              "           0.9137, 0.8980, 0.8745, 0.8745, 0.8431, 0.8353, 0.6431, 0.4980,\n",
              "           0.4824, 0.7686, 0.8980, 0.0000],\n",
              "          [0.0000, 0.0000, 0.0000, 0.0000, 0.0000, 0.0000, 0.0000, 0.0000,\n",
              "           0.0000, 0.0000, 0.0000, 0.0000, 0.0000, 0.7176, 0.8824, 0.8471,\n",
              "           0.8745, 0.8941, 0.9216, 0.8902, 0.8784, 0.8706, 0.8784, 0.8667,\n",
              "           0.8745, 0.9608, 0.6784, 0.0000],\n",
              "          [0.0000, 0.0000, 0.0000, 0.0000, 0.0000, 0.0000, 0.0000, 0.0000,\n",
              "           0.0000, 0.0000, 0.0000, 0.0000, 0.0000, 0.7569, 0.8941, 0.8549,\n",
              "           0.8353, 0.7765, 0.7059, 0.8314, 0.8235, 0.8275, 0.8353, 0.8745,\n",
              "           0.8627, 0.9529, 0.7922, 0.0000],\n",
              "          [0.0000, 0.0000, 0.0000, 0.0000, 0.0000, 0.0000, 0.0000, 0.0000,\n",
              "           0.0000, 0.0039, 0.0118, 0.0000, 0.0471, 0.8588, 0.8627, 0.8314,\n",
              "           0.8549, 0.7529, 0.6627, 0.8902, 0.8157, 0.8549, 0.8784, 0.8314,\n",
              "           0.8863, 0.7725, 0.8196, 0.2039],\n",
              "          [0.0000, 0.0000, 0.0000, 0.0000, 0.0000, 0.0000, 0.0000, 0.0000,\n",
              "           0.0000, 0.0000, 0.0235, 0.0000, 0.3882, 0.9569, 0.8706, 0.8627,\n",
              "           0.8549, 0.7961, 0.7765, 0.8667, 0.8431, 0.8353, 0.8706, 0.8627,\n",
              "           0.9608, 0.4667, 0.6549, 0.2196],\n",
              "          [0.0000, 0.0000, 0.0000, 0.0000, 0.0000, 0.0000, 0.0000, 0.0000,\n",
              "           0.0000, 0.0157, 0.0000, 0.0000, 0.2157, 0.9255, 0.8941, 0.9020,\n",
              "           0.8941, 0.9412, 0.9098, 0.8353, 0.8549, 0.8745, 0.9176, 0.8510,\n",
              "           0.8510, 0.8196, 0.3608, 0.0000],\n",
              "          [0.0000, 0.0000, 0.0039, 0.0157, 0.0235, 0.0275, 0.0078, 0.0000,\n",
              "           0.0000, 0.0000, 0.0000, 0.0000, 0.9294, 0.8863, 0.8510, 0.8745,\n",
              "           0.8706, 0.8588, 0.8706, 0.8667, 0.8471, 0.8745, 0.8980, 0.8431,\n",
              "           0.8549, 1.0000, 0.3020, 0.0000],\n",
              "          [0.0000, 0.0118, 0.0000, 0.0000, 0.0000, 0.0000, 0.0000, 0.0000,\n",
              "           0.0000, 0.2431, 0.5686, 0.8000, 0.8941, 0.8118, 0.8353, 0.8667,\n",
              "           0.8549, 0.8157, 0.8275, 0.8549, 0.8784, 0.8745, 0.8588, 0.8431,\n",
              "           0.8784, 0.9569, 0.6235, 0.0000],\n",
              "          [0.0000, 0.0000, 0.0000, 0.0000, 0.0706, 0.1725, 0.3216, 0.4196,\n",
              "           0.7412, 0.8941, 0.8627, 0.8706, 0.8510, 0.8863, 0.7843, 0.8039,\n",
              "           0.8275, 0.9020, 0.8784, 0.9176, 0.6902, 0.7373, 0.9804, 0.9725,\n",
              "           0.9137, 0.9333, 0.8431, 0.0000],\n",
              "          [0.0000, 0.2235, 0.7333, 0.8157, 0.8784, 0.8667, 0.8784, 0.8157,\n",
              "           0.8000, 0.8392, 0.8157, 0.8196, 0.7843, 0.6235, 0.9608, 0.7569,\n",
              "           0.8078, 0.8745, 1.0000, 1.0000, 0.8667, 0.9176, 0.8667, 0.8275,\n",
              "           0.8627, 0.9098, 0.9647, 0.0000],\n",
              "          [0.0118, 0.7922, 0.8941, 0.8784, 0.8667, 0.8275, 0.8275, 0.8392,\n",
              "           0.8039, 0.8039, 0.8039, 0.8627, 0.9412, 0.3137, 0.5882, 1.0000,\n",
              "           0.8980, 0.8667, 0.7373, 0.6039, 0.7490, 0.8235, 0.8000, 0.8196,\n",
              "           0.8706, 0.8941, 0.8824, 0.0000],\n",
              "          [0.3843, 0.9137, 0.7765, 0.8235, 0.8706, 0.8980, 0.8980, 0.9176,\n",
              "           0.9765, 0.8627, 0.7608, 0.8431, 0.8510, 0.9451, 0.2549, 0.2863,\n",
              "           0.4157, 0.4588, 0.6588, 0.8588, 0.8667, 0.8431, 0.8510, 0.8745,\n",
              "           0.8745, 0.8784, 0.8980, 0.1137],\n",
              "          [0.2941, 0.8000, 0.8314, 0.8000, 0.7569, 0.8039, 0.8275, 0.8824,\n",
              "           0.8471, 0.7255, 0.7725, 0.8078, 0.7765, 0.8353, 0.9412, 0.7647,\n",
              "           0.8902, 0.9608, 0.9373, 0.8745, 0.8549, 0.8314, 0.8196, 0.8706,\n",
              "           0.8627, 0.8667, 0.9020, 0.2627],\n",
              "          [0.1882, 0.7961, 0.7176, 0.7608, 0.8353, 0.7725, 0.7255, 0.7451,\n",
              "           0.7608, 0.7529, 0.7922, 0.8392, 0.8588, 0.8667, 0.8627, 0.9255,\n",
              "           0.8824, 0.8471, 0.7804, 0.8078, 0.7294, 0.7098, 0.6941, 0.6745,\n",
              "           0.7098, 0.8039, 0.8078, 0.4510],\n",
              "          [0.0000, 0.4784, 0.8588, 0.7569, 0.7020, 0.6706, 0.7176, 0.7686,\n",
              "           0.8000, 0.8235, 0.8353, 0.8118, 0.8275, 0.8235, 0.7843, 0.7686,\n",
              "           0.7608, 0.7490, 0.7647, 0.7490, 0.7765, 0.7529, 0.6902, 0.6118,\n",
              "           0.6549, 0.6941, 0.8235, 0.3608],\n",
              "          [0.0000, 0.0000, 0.2902, 0.7412, 0.8314, 0.7490, 0.6863, 0.6745,\n",
              "           0.6863, 0.7098, 0.7255, 0.7373, 0.7412, 0.7373, 0.7569, 0.7765,\n",
              "           0.8000, 0.8196, 0.8235, 0.8235, 0.8275, 0.7373, 0.7373, 0.7608,\n",
              "           0.7529, 0.8471, 0.6667, 0.0000],\n",
              "          [0.0078, 0.0000, 0.0000, 0.0000, 0.2588, 0.7843, 0.8706, 0.9294,\n",
              "           0.9373, 0.9490, 0.9647, 0.9529, 0.9569, 0.8667, 0.8627, 0.7569,\n",
              "           0.7490, 0.7020, 0.7137, 0.7137, 0.7098, 0.6902, 0.6510, 0.6588,\n",
              "           0.3882, 0.2275, 0.0000, 0.0000],\n",
              "          [0.0000, 0.0000, 0.0000, 0.0000, 0.0000, 0.0000, 0.0000, 0.1569,\n",
              "           0.2392, 0.1725, 0.2824, 0.1608, 0.1373, 0.0000, 0.0000, 0.0000,\n",
              "           0.0000, 0.0000, 0.0000, 0.0000, 0.0000, 0.0000, 0.0000, 0.0000,\n",
              "           0.0000, 0.0000, 0.0000, 0.0000],\n",
              "          [0.0000, 0.0000, 0.0000, 0.0000, 0.0000, 0.0000, 0.0000, 0.0000,\n",
              "           0.0000, 0.0000, 0.0000, 0.0000, 0.0000, 0.0000, 0.0000, 0.0000,\n",
              "           0.0000, 0.0000, 0.0000, 0.0000, 0.0000, 0.0000, 0.0000, 0.0000,\n",
              "           0.0000, 0.0000, 0.0000, 0.0000],\n",
              "          [0.0000, 0.0000, 0.0000, 0.0000, 0.0000, 0.0000, 0.0000, 0.0000,\n",
              "           0.0000, 0.0000, 0.0000, 0.0000, 0.0000, 0.0000, 0.0000, 0.0000,\n",
              "           0.0000, 0.0000, 0.0000, 0.0000, 0.0000, 0.0000, 0.0000, 0.0000,\n",
              "           0.0000, 0.0000, 0.0000, 0.0000]]]),\n",
              " 9)"
            ]
          },
          "metadata": {},
          "execution_count": 4
        }
      ]
    },
    {
      "cell_type": "code",
      "source": [
        "class_names = train_data.classes\n",
        "class_names"
      ],
      "metadata": {
        "colab": {
          "base_uri": "https://localhost:8080/"
        },
        "id": "ZklscpUQHLmV",
        "outputId": "d7b056d3-8389-4e28-b851-417d248b992d"
      },
      "execution_count": 5,
      "outputs": [
        {
          "output_type": "execute_result",
          "data": {
            "text/plain": [
              "['T-shirt/top',\n",
              " 'Trouser',\n",
              " 'Pullover',\n",
              " 'Dress',\n",
              " 'Coat',\n",
              " 'Sandal',\n",
              " 'Shirt',\n",
              " 'Sneaker',\n",
              " 'Bag',\n",
              " 'Ankle boot']"
            ]
          },
          "metadata": {},
          "execution_count": 5
        }
      ]
    },
    {
      "cell_type": "code",
      "source": [
        "class_to_idx = train_data.class_to_idx\n",
        "class_to_idx"
      ],
      "metadata": {
        "colab": {
          "base_uri": "https://localhost:8080/"
        },
        "id": "R-a_WiZbHg8F",
        "outputId": "b4d547a2-5d8f-4772-b5ca-871569ad5af9"
      },
      "execution_count": 6,
      "outputs": [
        {
          "output_type": "execute_result",
          "data": {
            "text/plain": [
              "{'T-shirt/top': 0,\n",
              " 'Trouser': 1,\n",
              " 'Pullover': 2,\n",
              " 'Dress': 3,\n",
              " 'Coat': 4,\n",
              " 'Sandal': 5,\n",
              " 'Shirt': 6,\n",
              " 'Sneaker': 7,\n",
              " 'Bag': 8,\n",
              " 'Ankle boot': 9}"
            ]
          },
          "metadata": {},
          "execution_count": 6
        }
      ]
    },
    {
      "cell_type": "code",
      "source": [
        "train_data.targets"
      ],
      "metadata": {
        "colab": {
          "base_uri": "https://localhost:8080/"
        },
        "id": "Che8cNaSHrPq",
        "outputId": "6322a69f-d3d5-4b27-fdb2-039c52cd07cf"
      },
      "execution_count": 7,
      "outputs": [
        {
          "output_type": "execute_result",
          "data": {
            "text/plain": [
              "tensor([9, 0, 0,  ..., 3, 0, 5])"
            ]
          },
          "metadata": {},
          "execution_count": 7
        }
      ]
    },
    {
      "cell_type": "code",
      "source": [
        "# Check the shape\n",
        "print(f\"image shape: {image.shape} -> [color_channel, height, weidth],\\nimage_channel: {label}\")"
      ],
      "metadata": {
        "colab": {
          "base_uri": "https://localhost:8080/"
        },
        "id": "Vy-GkCU4H2E2",
        "outputId": "75dcd8df-095b-491e-c05f-6d860583688a"
      },
      "execution_count": 8,
      "outputs": [
        {
          "output_type": "stream",
          "name": "stdout",
          "text": [
            "image shape: torch.Size([1, 28, 28]) -> [color_channel, height, weidth],\n",
            "image_channel: 9\n"
          ]
        }
      ]
    },
    {
      "cell_type": "markdown",
      "source": [
        "### 1.2 Visualization our data"
      ],
      "metadata": {
        "id": "0kMSy4tfIsz7"
      }
    },
    {
      "cell_type": "code",
      "source": [
        "image, label = train_data[0]\n",
        "plt.imshow(image.squeeze())\n",
        "plt.title(label)"
      ],
      "metadata": {
        "colab": {
          "base_uri": "https://localhost:8080/",
          "height": 469
        },
        "id": "ptBOes_GH8GP",
        "outputId": "17213fd6-89e2-4051-baa5-a3f83c6bf590"
      },
      "execution_count": 9,
      "outputs": [
        {
          "output_type": "execute_result",
          "data": {
            "text/plain": [
              "Text(0.5, 1.0, '9')"
            ]
          },
          "metadata": {},
          "execution_count": 9
        },
        {
          "output_type": "display_data",
          "data": {
            "text/plain": [
              "<Figure size 640x480 with 1 Axes>"
            ],
            "image/png": "[encoded data removed]"
          },
          "metadata": {}
        }
      ]
    },
    {
      "cell_type": "code",
      "source": [
        "plt.imshow(image.squeeze(), cmap=\"gray\")\n",
        "plt.title(class_names[label])\n",
        "plt.axis(False)"
      ],
      "metadata": {
        "colab": {
          "base_uri": "https://localhost:8080/",
          "height": 445
        },
        "id": "vHT_1szTIUVf",
        "outputId": "ad184cd5-c675-4b68-9709-7a07a7aa3bd0"
      },
      "execution_count": 10,
      "outputs": [
        {
          "output_type": "execute_result",
          "data": {
            "text/plain": [
              "(-0.5, 27.5, 27.5, -0.5)"
            ]
          },
          "metadata": {},
          "execution_count": 10
        },
        {
          "output_type": "display_data",
          "data": {
            "text/plain": [
              "<Figure size 640x480 with 1 Axes>"
            ],
            "image/png": "[encoded data removed]"
          },
          "metadata": {}
        }
      ]
    },
    {
      "cell_type": "code",
      "source": [
        "#Plot more image\n",
        "torch.manual_seed(42)\n",
        "fig = plt.figure(figsize=(9, 9))\n",
        "rows, cols = 4, 4\n",
        "for i in range(1, rows*cols+1):\n",
        "  random_idx = torch.randint(0, len(train_data), size=[1]).item()\n",
        "  img, label = train_data[random_idx]\n",
        "  fig.add_subplot(rows, cols, i)\n",
        "  plt.imshow(img.squeeze(), cmap=\"gray\")\n",
        "  plt.title(class_names[label])\n",
        "  plt.axis(False)"
      ],
      "metadata": {
        "colab": {
          "base_uri": "https://localhost:8080/",
          "height": 752
        },
        "id": "Pvsr16zoIUSo",
        "outputId": "9aa92453-a3b3-4c3e-cdba-2a640d4ffa8d"
      },
      "execution_count": 11,
      "outputs": [
        {
          "output_type": "display_data",
          "data": {
            "text/plain": [
              "<Figure size 900x900 with 16 Axes>"
            ],
            "image/png": "[encoded data removed]"
          },
          "metadata": {}
        }
      ]
    },
    {
      "cell_type": "markdown",
      "source": [
        "## 2. Prepare Dataloader\n",
        "\n",
        "Our data is in the form of PyTorch Datasets\n",
        "\n",
        "DataLoader wurns our dataset into a python iterable\n",
        "\n",
        "More specifically, we want to turn our data into batches(or mini-batches)\n",
        "\n",
        "1. It is more computationally, as in, your computing hardware may not able to look (store in memory) at 60000 images in one hit. So we break it down to 32 images at a time(batch size of 32)\n",
        "2. It gives our neural network more chance to update its gradient per epoch."
      ],
      "metadata": {
        "id": "hetCAomoK-wF"
      }
    },
    {
      "cell_type": "code",
      "source": [
        "train_data, test_data"
      ],
      "metadata": {
        "colab": {
          "base_uri": "https://localhost:8080/"
        },
        "id": "Ap0reeBdIUQB",
        "outputId": "9f9bb831-2d63-4cb5-cdda-d7ce504eef6b"
      },
      "execution_count": 12,
      "outputs": [
        {
          "output_type": "execute_result",
          "data": {
            "text/plain": [
              "(Dataset FashionMNIST\n",
              "     Number of datapoints: 60000\n",
              "     Root location: data\n",
              "     Split: Train\n",
              "     StandardTransform\n",
              " Transform: ToTensor(),\n",
              " Dataset FashionMNIST\n",
              "     Number of datapoints: 10000\n",
              "     Root location: data\n",
              "     Split: Test\n",
              "     StandardTransform\n",
              " Transform: ToTensor())"
            ]
          },
          "metadata": {},
          "execution_count": 12
        }
      ]
    },
    {
      "cell_type": "code",
      "source": [
        "from torch.utils.data import DataLoader\n",
        "\n",
        "# Setup the batch size hyperparameters\n",
        "BATCH_SIZE = 32\n",
        "\n",
        "# Trun dataset to iterable\n",
        "train_dataloader = DataLoader(\n",
        "    train_data,\n",
        "    batch_size=BATCH_SIZE,\n",
        "    shuffle=True\n",
        ")\n",
        "\n",
        "test_dataloader = DataLoader(\n",
        "    dataset=test_data,\n",
        "    batch_size=BATCH_SIZE,\n",
        "    shuffle=False\n",
        ")\n",
        "\n",
        "train_dataloader, test_dataloader"
      ],
      "metadata": {
        "colab": {
          "base_uri": "https://localhost:8080/"
        },
        "id": "1BaCgmhsIUNb",
        "outputId": "830a3dac-444c-4893-c6c4-38e8dc820fe5"
      },
      "execution_count": 13,
      "outputs": [
        {
          "output_type": "execute_result",
          "data": {
            "text/plain": [
              "(<torch.utils.data.dataloader.DataLoader at 0x7a7dabb63d90>,\n",
              " <torch.utils.data.dataloader.DataLoader at 0x7a7dae228610>)"
            ]
          },
          "metadata": {},
          "execution_count": 13
        }
      ]
    },
    {
      "cell_type": "code",
      "source": [
        "print(f\"DataLoader: {train_dataloader, test_dataloader}\")\n",
        "print(f\"Length of train_dataloader: {len(train_dataloader)} batched of {BATCH_SIZE}...\")\n",
        "print(f\"Length of test_dataloader: {len(test_dataloader)} batched of {BATCH_SIZE}...\")"
      ],
      "metadata": {
        "colab": {
          "base_uri": "https://localhost:8080/"
        },
        "id": "kJbRF0v9IUKr",
        "outputId": "36d85313-dd75-489e-aaf6-3c8519d35f01"
      },
      "execution_count": 14,
      "outputs": [
        {
          "output_type": "stream",
          "name": "stdout",
          "text": [
            "DataLoader: (<torch.utils.data.dataloader.DataLoader object at 0x7a7dabb63d90>, <torch.utils.data.dataloader.DataLoader object at 0x7a7dae228610>)\n",
            "Length of train_dataloader: 1875 batched of 32...\n",
            "Length of test_dataloader: 313 batched of 32...\n"
          ]
        }
      ]
    },
    {
      "cell_type": "code",
      "source": [
        "train_features_batch, train_labels_batch = next(iter(train_dataloader))\n",
        "train_features_batch.shape, train_labels_batch.shape"
      ],
      "metadata": {
        "id": "ucL96MUvOfZx",
        "outputId": "38785626-c8a4-4959-ad34-44edbe4a2a2c",
        "colab": {
          "base_uri": "https://localhost:8080/"
        }
      },
      "execution_count": 15,
      "outputs": [
        {
          "output_type": "execute_result",
          "data": {
            "text/plain": [
              "(torch.Size([32, 1, 28, 28]), torch.Size([32]))"
            ]
          },
          "metadata": {},
          "execution_count": 15
        }
      ]
    },
    {
      "cell_type": "code",
      "source": [
        "# Show a sample\n",
        "torch.manual_seed(42)\n",
        "random_idx = torch.randint(0, len(train_features_batch), size=[1]).item()\n",
        "img, label = train_features_batch[random_idx], train_labels_batch[random_idx]\n",
        "plt.imshow(img.squeeze(), cmap=\"gray\")\n",
        "plt.title(class_names[label])\n",
        "plt.axis(False)\n",
        "print(f\"Image size: {img.shape}\")\n",
        "print(f\"Label: {label}, label size: {label.shape}\")"
      ],
      "metadata": {
        "colab": {
          "base_uri": "https://localhost:8080/",
          "height": 462
        },
        "id": "jft02fZyIUIT",
        "outputId": "52a3d706-54e8-4290-d1a5-b7cfa47099ed"
      },
      "execution_count": 16,
      "outputs": [
        {
          "output_type": "stream",
          "name": "stdout",
          "text": [
            "Image size: torch.Size([1, 28, 28])\n",
            "Label: 6, label size: torch.Size([])\n"
          ]
        },
        {
          "output_type": "display_data",
          "data": {
            "text/plain": [
              "<Figure size 640x480 with 1 Axes>"
            ],
            "image/png": "[encoded data removed]"
          },
          "metadata": {}
        }
      ]
    },
    {
      "cell_type": "markdown",
      "source": [
        "## 3. Model 0: Build a basline model\n"
      ],
      "metadata": {
        "id": "cPnB3BwHQCgl"
      }
    },
    {
      "cell_type": "code",
      "source": [
        "# Create a flatten layer\n",
        "flatten_model = nn.Flatten()\n",
        "\n",
        "# Get a single sample\n",
        "x = train_features_batch[0]\n",
        "\n",
        "# Flatten the sample\n",
        "output = flatten_model(x)\n",
        "\n",
        "print(f\"before {x.shape} -> [color_channels, height, width]\")\n",
        "print(f\"after {output.shape} -> [color_vhannels, height*width]\")"
      ],
      "metadata": {
        "id": "ucfDr1Y_PfsO",
        "outputId": "07c415d1-b014-4986-d34d-557642ddc5c1",
        "colab": {
          "base_uri": "https://localhost:8080/"
        }
      },
      "execution_count": 17,
      "outputs": [
        {
          "output_type": "stream",
          "name": "stdout",
          "text": [
            "before torch.Size([1, 28, 28]) -> [color_channels, height, width]\n",
            "after torch.Size([1, 784]) -> [color_vhannels, height*width]\n"
          ]
        }
      ]
    },
    {
      "cell_type": "code",
      "source": [
        "from torch import nn\n",
        "class FashionMNISTV0(nn.Module):\n",
        "  def __init__(self,\n",
        "               input_shape:int,\n",
        "               hidden_units:int,\n",
        "               output_shape:int):\n",
        "    super().__init__()\n",
        "    self.layer_stack = nn.Sequential(\n",
        "        nn.Flatten(),\n",
        "        nn.Linear(in_features=input_shape,\n",
        "                  out_features=hidden_units),\n",
        "        nn.Linear(in_features=hidden_units,\n",
        "                  out_features=output_shape)\n",
        "    )\n",
        "\n",
        "  def forward(self, x):\n",
        "    return self.layer_stack(x)"
      ],
      "metadata": {
        "id": "Tczk9iAGQ51Y"
      },
      "execution_count": 18,
      "outputs": []
    },
    {
      "cell_type": "code",
      "source": [
        "torch.manual_seed(42)\n",
        "\n",
        "model_0 = FashionMNISTV0(\n",
        "    input_shape=28*28,\n",
        "    hidden_units=10,\n",
        "    output_shape=len(class_names)\n",
        ").to(\"cpu\")\n"
      ],
      "metadata": {
        "id": "xmEqHwt9SaV8"
      },
      "execution_count": 19,
      "outputs": []
    },
    {
      "cell_type": "code",
      "source": [
        "dummy_x = torch.rand([1, 1, 28, 28])\n",
        "model_0(dummy_x)"
      ],
      "metadata": {
        "id": "0EHlVvrdS449",
        "outputId": "d2191707-b12e-411c-9116-40ad5744d966",
        "colab": {
          "base_uri": "https://localhost:8080/"
        }
      },
      "execution_count": 20,
      "outputs": [
        {
          "output_type": "execute_result",
          "data": {
            "text/plain": [
              "tensor([[-0.0315,  0.3171,  0.0531, -0.2525,  0.5959,  0.2112,  0.3233,  0.2694,\n",
              "         -0.1004,  0.0157]], grad_fn=<AddmmBackward0>)"
            ]
          },
          "metadata": {},
          "execution_count": 20
        }
      ]
    },
    {
      "cell_type": "code",
      "source": [
        "model_0.state_dict()"
      ],
      "metadata": {
        "id": "SG-f_Fy5TAUo",
        "outputId": "580a4294-79c0-4a15-bed6-f3e502c3cb29",
        "colab": {
          "base_uri": "https://localhost:8080/"
        }
      },
      "execution_count": 21,
      "outputs": [
        {
          "output_type": "execute_result",
          "data": {
            "text/plain": [
              "OrderedDict([('layer_stack.1.weight',\n",
              "              tensor([[ 0.0273,  0.0296, -0.0084,  ..., -0.0142,  0.0093,  0.0135],\n",
              "                      [-0.0188, -0.0354,  0.0187,  ..., -0.0106, -0.0001,  0.0115],\n",
              "                      [-0.0008,  0.0017,  0.0045,  ..., -0.0127, -0.0188,  0.0059],\n",
              "                      ...,\n",
              "                      [-0.0116,  0.0273, -0.0344,  ...,  0.0176,  0.0283, -0.0011],\n",
              "                      [-0.0230,  0.0257,  0.0291,  ..., -0.0187, -0.0087,  0.0001],\n",
              "                      [ 0.0176, -0.0147,  0.0053,  ..., -0.0336, -0.0221,  0.0205]])),\n",
              "             ('layer_stack.1.bias',\n",
              "              tensor([-0.0093,  0.0283, -0.0033,  0.0255,  0.0017,  0.0037, -0.0302, -0.0123,\n",
              "                       0.0018,  0.0163])),\n",
              "             ('layer_stack.2.weight',\n",
              "              tensor([[ 0.0614, -0.0687,  0.0021,  0.2718,  0.2109,  0.1079, -0.2279, -0.1063,\n",
              "                        0.2019,  0.2847],\n",
              "                      [-0.1495,  0.1344, -0.0740,  0.2006, -0.0475, -0.2514, -0.3130, -0.0118,\n",
              "                        0.0932, -0.1864],\n",
              "                      [ 0.2488,  0.1500,  0.1907,  0.1457, -0.3050, -0.0580,  0.1643,  0.1565,\n",
              "                       -0.2877, -0.1792],\n",
              "                      [ 0.2305, -0.2618,  0.2397, -0.0610,  0.0232,  0.1542,  0.0851, -0.2027,\n",
              "                        0.1030, -0.2715],\n",
              "                      [-0.1596, -0.0555, -0.0633,  0.2302, -0.1726,  0.2654,  0.1473,  0.1029,\n",
              "                        0.2252, -0.2160],\n",
              "                      [-0.2725,  0.0118,  0.1559,  0.1596,  0.0132,  0.3024,  0.1124,  0.1366,\n",
              "                       -0.1533,  0.0965],\n",
              "                      [-0.1184, -0.2555, -0.2057, -0.1909, -0.0477, -0.1324,  0.2905,  0.1307,\n",
              "                       -0.2629,  0.0133],\n",
              "                      [ 0.2727, -0.0127,  0.0513,  0.0863, -0.1043, -0.2047, -0.1185, -0.0825,\n",
              "                        0.2488, -0.2571],\n",
              "                      [ 0.0425, -0.1209, -0.0336, -0.0281, -0.1227,  0.0730,  0.0747, -0.1816,\n",
              "                        0.1943,  0.2853],\n",
              "                      [-0.1310,  0.0645, -0.1171,  0.2168, -0.0245, -0.2820,  0.0736,  0.2621,\n",
              "                        0.0012, -0.0810]])),\n",
              "             ('layer_stack.2.bias',\n",
              "              tensor([-0.0087,  0.1791,  0.2712, -0.0791,  0.1685,  0.1762,  0.2825,  0.2266,\n",
              "                      -0.2612, -0.2613]))])"
            ]
          },
          "metadata": {},
          "execution_count": 21
        }
      ]
    },
    {
      "cell_type": "markdown",
      "source": [
        "### 3.1 Setup loss, potimizer and evaluation metrices\n",
        "\n",
        "* Loss function - `nn.CrossEntropyLoss()`\n",
        "* Optimizer - `torch.optim.SGD()`\n",
        "* Evaluation metric"
      ],
      "metadata": {
        "id": "u27DKHUNT6va"
      }
    },
    {
      "cell_type": "code",
      "source": [
        "import requests\n",
        "from pathlib import Path\n",
        "\n",
        "if Path(\"helper_function.py\").is_file():\n",
        "  print(\"helper_function.py already exists, skipping download...\")\n",
        "else:\n",
        "  print(\"Downloading helper_function.py\")\n",
        "  req = requests.get(\"https://raw.githubusercontent.com/mrdbourke/pytorch-deep-learning/main/helper_functions.py\")\n",
        "  with open(\"helper_function.py\", \"wb\") as f:\n",
        "    f.write(req.content)"
      ],
      "metadata": {
        "id": "fvmrXJwnTpRn",
        "outputId": "d7432e38-ab24-4d9c-a84f-8e6b06f3c263",
        "colab": {
          "base_uri": "https://localhost:8080/"
        }
      },
      "execution_count": 22,
      "outputs": [
        {
          "output_type": "stream",
          "name": "stdout",
          "text": [
            "Downloading helper_function.py\n"
          ]
        }
      ]
    },
    {
      "cell_type": "code",
      "source": [
        "from helper_function import accuracy_fn\n",
        "\n",
        "# Set up loss fn and optim\n",
        "loss_fn = nn.CrossEntropyLoss()\n",
        "optimizer = torch.optim.SGD(\n",
        "    params=model_0.parameters(),\n",
        "    lr=0.1\n",
        ")"
      ],
      "metadata": {
        "id": "zhcS2tZnVgOb"
      },
      "execution_count": 23,
      "outputs": []
    },
    {
      "cell_type": "markdown",
      "source": [
        "### 3.2 Time our experiements\n",
        "\n",
        "Two of main things you'll often track\n",
        "1. Model's performence(loss and accuracy value etc)\n",
        "2. How fast it runs"
      ],
      "metadata": {
        "id": "UnGeo1Nhiza6"
      }
    },
    {
      "cell_type": "code",
      "source": [
        "from timeit import default_timer as timer\n",
        "\n",
        "def print_train_time(start: float,\n",
        "                     end: float,\n",
        "                     device: torch.device=None):\n",
        "  \"\"\"\n",
        "  print difference between start and end time.\n",
        "  \"\"\"\n",
        "  total_time = end - start\n",
        "  print(f\"Train time on {device}: {total_time:.3f} seconds\")\n",
        "  return total_time"
      ],
      "metadata": {
        "id": "_-g9-zJaWhzZ"
      },
      "execution_count": 24,
      "outputs": []
    },
    {
      "cell_type": "code",
      "source": [
        "start_time = timer()\n",
        "# some code\n",
        "end_time = timer()\n",
        "print_train_time(start_time, end_time, device=\"cpu\")"
      ],
      "metadata": {
        "colab": {
          "base_uri": "https://localhost:8080/"
        },
        "id": "0bUpCe4kjzbO",
        "outputId": "09893a71-5f5f-4ee5-fc40-76801d747a6a"
      },
      "execution_count": 25,
      "outputs": [
        {
          "output_type": "stream",
          "name": "stdout",
          "text": [
            "Train time on cpu: 0.000 seconds\n"
          ]
        },
        {
          "output_type": "execute_result",
          "data": {
            "text/plain": [
              "4.8169999999458923e-05"
            ]
          },
          "metadata": {},
          "execution_count": 25
        }
      ]
    },
    {
      "cell_type": "code",
      "source": [],
      "metadata": {
        "id": "50ztfjXAkPje"
      },
      "execution_count": 25,
      "outputs": []
    },
    {
      "cell_type": "markdown",
      "source": [
        "### 3.3 Creating a training loop and training a model on batches data\n",
        "\n",
        "1. Loop through epochs\n",
        "2. Loop through training batches, perform training stepsm calculate the train *per batch*\n",
        "3. Loop through testing batches, perform testing steps, calculate the test loss *per batch*\n",
        "4. Print our what's happening\n",
        "5.  Time it all"
      ],
      "metadata": {
        "id": "F82wUe74ktFU"
      }
    },
    {
      "cell_type": "code",
      "source": [
        "# Import tqdm for progress bar\n",
        "from tqdm.auto import tqdm\n",
        "\n",
        "# Set the seed and start the timer\n",
        "torch.manual_seed(42)\n",
        "train_time_start_on_cpu = timer()\n",
        "\n",
        "# Set the number of epochs\n",
        "epochs = 3\n",
        "\n",
        "# Create training and test loop\n",
        "for epoch in tqdm(range(epochs)):\n",
        "  print(f\"Epoch: {epoch}\\n-------\")\n",
        "  ### Training\n",
        "  train_loss = 0\n",
        "  # Add a loop to loop through the training batches\n",
        "  for batch, (X, y) in enumerate(train_dataloader):\n",
        "    model_0.train()\n",
        "    # 1. Froward pass\n",
        "    y_pred = model_0(X)\n",
        "\n",
        "    # 2. Calculate loss (per batch)\n",
        "    loss = loss_fn(y_pred, y)\n",
        "    train_loss += loss # accumulate train loss\n",
        "\n",
        "    # 3. Optimizer zer grade\n",
        "    optimizer.zero_grad()\n",
        "\n",
        "    # 4. Loss backward\n",
        "    loss.backward()\n",
        "\n",
        "    # 5. optimizer step\n",
        "    optimizer.step()\n",
        "\n",
        "    # Print out\n",
        "    if batch % 400 == 0:\n",
        "      print(f\"Looked at {batch * len(X)} / {len(train_dataloader.dataset)} samples.\")\n",
        "\n",
        "  # Dived total train loss by length of train lost\n",
        "  train_loss /= len(train_dataloader)\n",
        "\n",
        "  ### Testing\n",
        "  test_loss, test_acc = 0, 0\n",
        "  model_0.eval()\n",
        "  with torch.inference_mode():\n",
        "    for X_test, y_test in test_dataloader:\n",
        "      # 1. Forward pass\n",
        "      test_pred = model_0(X_test)\n",
        "\n",
        "      # 2. Calculate loss\n",
        "      test_loss += loss_fn(test_pred, y_test)\n",
        "\n",
        "      # 3. Calculate accuracy\n",
        "      test_acc += accuracy_fn(y_true=y_test, y_pred=test_pred.argmax(dim=1))\n",
        "\n",
        "    # Calculate the test loss average per batch\n",
        "    test_loss /= len(test_dataloader)\n",
        "\n",
        "    # Calculate the test acc average per batch\n",
        "    test_acc /= len(test_dataloader)\n",
        "\n",
        "  # Print out\n",
        "  print(f\"\\nTrain loss: {train_loss:.4f} | Test loss: {test_loss:.4}, Test acc: { test_acc:.4}\")\n",
        "\n",
        "# Calculate training time\n",
        "train_time_end_on_cpu = timer()\n",
        "total_train_time_model_0 = print_train_time(start=train_time_start_on_cpu,\n",
        "                                            end=train_time_end_on_cpu,\n",
        "                                            device=str(next(model_0.parameters()).device))\n"
      ],
      "metadata": {
        "colab": {
          "base_uri": "https://localhost:8080/",
          "height": 525,
          "referenced_widgets": [
            "485c5f4f9c5048bea5ee3f0b26d7ca64",
            "77132a473dc24cdbb58b951692e487f2",
            "d53bd2842eb64bafa5f9aa9f6fd3324f",
            "e11b15514f674e66871a4867aac13328",
            "b70d96685ece4fe89444b92f2b46795d",
            "3f18561799764ac6aa1be407ed846904",
            "518e10938d024740a8e491ad6130e1fd",
            "8387e02f4c45499b84fedf88a53e02fc",
            "96104a3127644f76a140b8eb58376dcf",
            "348373f3902c48ee9d2ba42264fdd10f",
            "0b90a76a61554af5844c50ae1cb65bb3"
          ]
        },
        "id": "stv8bDLZkzB5",
        "outputId": "10abdeaa-a977-49b1-dc55-de84ed297157"
      },
      "execution_count": 26,
      "outputs": [
        {
          "output_type": "display_data",
          "data": {
            "text/plain": [
              "  0%|          | 0/3 [00:00<?, ?it/s]"
            ],
            "application/vnd.jupyter.widget-view+json": {
              "version_major": 2,
              "version_minor": 0,
              "model_id": "485c5f4f9c5048bea5ee3f0b26d7ca64"
            }
          },
          "metadata": {}
        },
        {
          "output_type": "stream",
          "name": "stdout",
          "text": [
            "Epoch: 0\n",
            "-------\n",
            "Looked at 0 / 60000 samples.\n",
            "Looked at 12800 / 60000 samples.\n",
            "Looked at 25600 / 60000 samples.\n",
            "Looked at 38400 / 60000 samples.\n",
            "Looked at 51200 / 60000 samples.\n",
            "\n",
            "Train loss: 0.5904 | Test loss: 0.5095, Test acc: 82.04\n",
            "Epoch: 1\n",
            "-------\n",
            "Looked at 0 / 60000 samples.\n",
            "Looked at 12800 / 60000 samples.\n",
            "Looked at 25600 / 60000 samples.\n",
            "Looked at 38400 / 60000 samples.\n",
            "Looked at 51200 / 60000 samples.\n",
            "\n",
            "Train loss: 0.4763 | Test loss: 0.4799, Test acc: 83.2\n",
            "Epoch: 2\n",
            "-------\n",
            "Looked at 0 / 60000 samples.\n",
            "Looked at 12800 / 60000 samples.\n",
            "Looked at 25600 / 60000 samples.\n",
            "Looked at 38400 / 60000 samples.\n",
            "Looked at 51200 / 60000 samples.\n",
            "\n",
            "Train loss: 0.4550 | Test loss: 0.4766, Test acc: 83.43\n",
            "Train time on cpu: 28.894 seconds\n"
          ]
        }
      ]
    },
    {
      "cell_type": "markdown",
      "source": [
        "## 4. Make Prediction and get Model 0 Result"
      ],
      "metadata": {
        "id": "vdV0qe2cr02a"
      }
    },
    {
      "cell_type": "code",
      "source": [
        "torch.manual_seed(42)\n",
        "def eval_model(model : torch.nn.Module,\n",
        "               data_loader: torch.utils.data.DataLoader,\n",
        "               loss_fn: torch.nn.Module,\n",
        "               accuracy_fn):\n",
        "  \"\"\"Return a dict containing the result of model prediction on data_loader\"\"\"\n",
        "  loss, acc = 0, 0\n",
        "  model.eval()\n",
        "  with torch.inference_mode():\n",
        "    for X, y in tqdm(data_loader):\n",
        "      # Make predict\n",
        "      y_pred = model(X)\n",
        "\n",
        "      # Accumulate the loss and acc values per batch\n",
        "      loss += loss_fn(y_pred, y)\n",
        "      acc += accuracy_fn(y_true=y,\n",
        "                         y_pred=y_pred.argmax(dim=1))\n",
        "\n",
        "    # Scale loss and acc to find the average loss/acc per batch\n",
        "    loss /= len(data_loader)\n",
        "    acc /= len(data_loader)\n",
        "\n",
        "  return {\"Model_name\" : model.__class__.__name__, #only work when model was created with a class\n",
        "          \"model_loss\" : loss.item(),\n",
        "          \"model_acc\" : acc}\n",
        "\n",
        "# Calculate model 0 result on test dataset\n",
        "model_0_result = eval_model(model=model_0,\n",
        "                            data_loader=test_dataloader,\n",
        "                            loss_fn=loss_fn,\n",
        "                            accuracy_fn=accuracy_fn)\n",
        "\n",
        "model_0_result\n",
        "\n",
        "\n"
      ],
      "metadata": {
        "colab": {
          "base_uri": "https://localhost:8080/",
          "height": 100,
          "referenced_widgets": [
            "ae518ebb8e9c41049a3f6c16fc699c83",
            "690ab457765b4cf49ff6e68abbad940d",
            "64001dfb2c50427cb5dbe04cc47d5dc9",
            "dbf76302a88041a2a570a10bfa733574",
            "3af6729497a4443384bca7670c53ff1f",
            "d1ddfaed5e8342a395cb3d6824e54793",
            "f757cb46020f4f0891d6c1b86b3e8422",
            "a5fe7bfffc884008b58e1f38fb7e5984",
            "b4d2ba132ca1478aaeef6f7a88526bd5",
            "332af791a06e488c9f75ce32e2b34c5a",
            "ab127c18fc2e415fa26b31b0b12636b6"
          ]
        },
        "id": "EjRMHm3Jq5vT",
        "outputId": "9d470466-3a8c-4c41-9203-10fc73cc669a"
      },
      "execution_count": 27,
      "outputs": [
        {
          "output_type": "display_data",
          "data": {
            "text/plain": [
              "  0%|          | 0/313 [00:00<?, ?it/s]"
            ],
            "application/vnd.jupyter.widget-view+json": {
              "version_major": 2,
              "version_minor": 0,
              "model_id": "ae518ebb8e9c41049a3f6c16fc699c83"
            }
          },
          "metadata": {}
        },
        {
          "output_type": "execute_result",
          "data": {
            "text/plain": [
              "{'Model_name': 'FashionMNISTV0',\n",
              " 'model_loss': 0.47663894295692444,\n",
              " 'model_acc': 83.42651757188499}"
            ]
          },
          "metadata": {},
          "execution_count": 27
        }
      ]
    },
    {
      "cell_type": "markdown",
      "source": [
        "## 5. Setup device agnosti-code"
      ],
      "metadata": {
        "id": "WN1vl9Z0uEeR"
      }
    },
    {
      "cell_type": "code",
      "source": [
        "torch.cuda.is_available()"
      ],
      "metadata": {
        "colab": {
          "base_uri": "https://localhost:8080/"
        },
        "id": "l0Y9IsIPrz6q",
        "outputId": "4e3226d3-a4ee-4906-d81e-69ebabed7c98"
      },
      "execution_count": 28,
      "outputs": [
        {
          "output_type": "execute_result",
          "data": {
            "text/plain": [
              "True"
            ]
          },
          "metadata": {},
          "execution_count": 28
        }
      ]
    },
    {
      "cell_type": "code",
      "source": [
        "# Setup device-agnostic code\n",
        "import torch\n",
        "device = \"cuda\" if torch.cuda.is_available() else \"cpu\"\n",
        "device"
      ],
      "metadata": {
        "colab": {
          "base_uri": "https://localhost:8080/",
          "height": 37
        },
        "id": "2RopJnmZrz3R",
        "outputId": "6cdce677-409c-4d04-90fc-bac2933e82af"
      },
      "execution_count": 29,
      "outputs": [
        {
          "output_type": "execute_result",
          "data": {
            "text/plain": [
              "'cuda'"
            ],
            "application/vnd.google.colaboratory.intrinsic+json": {
              "type": "string"
            }
          },
          "metadata": {},
          "execution_count": 29
        }
      ]
    },
    {
      "cell_type": "markdown",
      "source": [
        "## 6. Model 1 : Building a better with non-linearity"
      ],
      "metadata": {
        "id": "1oQeGOZzvLhJ"
      }
    },
    {
      "cell_type": "code",
      "source": [
        "# Create a model with non-linear and linear layers\n",
        "class FashionMNISTV1(nn.Module):\n",
        "  def __init__(self,\n",
        "               input_shape: int,\n",
        "               hidden_units: int,\n",
        "               output_shape: int):\n",
        "    super().__init__()\n",
        "    self.layer_stack = nn.Sequential(\n",
        "        nn.Flatten(),\n",
        "        nn.Linear(in_features=input_shape,\n",
        "                  out_features=hidden_units),\n",
        "        nn.ReLU(),\n",
        "        nn.Linear(in_features=hidden_units,\n",
        "                  out_features=output_shape),\n",
        "        nn.ReLU()\n",
        "    )\n",
        "\n",
        "  def forward(self, x:torch.Tensor):\n",
        "    return self.layer_stack(x)"
      ],
      "metadata": {
        "id": "-kHsG_Qerz0-"
      },
      "execution_count": 30,
      "outputs": []
    },
    {
      "cell_type": "code",
      "source": [
        "next(model_0.parameters()).device"
      ],
      "metadata": {
        "id": "epzlr92Ewuah",
        "outputId": "244e93ac-4dcc-4f7a-f1a9-3885fbded422",
        "colab": {
          "base_uri": "https://localhost:8080/"
        }
      },
      "execution_count": 32,
      "outputs": [
        {
          "output_type": "execute_result",
          "data": {
            "text/plain": [
              "device(type='cpu')"
            ]
          },
          "metadata": {},
          "execution_count": 32
        }
      ]
    },
    {
      "cell_type": "code",
      "source": [
        "torch.manual_seed(42)\n",
        "model_1 = FashionMNISTV1(input_shape=784,\n",
        "                         hidden_units=10,\n",
        "                         output_shape=len(class_names)).to(device)\n",
        "\n",
        "next(model_1.parameters()).device"
      ],
      "metadata": {
        "id": "cithEN4ww2DJ",
        "outputId": "c53bd0c0-2afb-467a-8e47-8ccf7965c7a8",
        "colab": {
          "base_uri": "https://localhost:8080/"
        }
      },
      "execution_count": 34,
      "outputs": [
        {
          "output_type": "execute_result",
          "data": {
            "text/plain": [
              "device(type='cuda', index=0)"
            ]
          },
          "metadata": {},
          "execution_count": 34
        }
      ]
    },
    {
      "cell_type": "markdown",
      "source": [
        "### 6. Setup loss, optimizer and evaluation metrics"
      ],
      "metadata": {
        "id": "8f7-t2r7xxld"
      }
    },
    {
      "cell_type": "code",
      "source": [
        "loss_fn = nn.CrossEntropyLoss()\n",
        "optimizer = torch.optim.SGD(params=model_1.parameters(),\n",
        "                            lr=0.1)\n"
      ],
      "metadata": {
        "id": "nYDkCc-uxYQp"
      },
      "execution_count": 35,
      "outputs": []
    },
    {
      "cell_type": "markdown",
      "source": [
        "### 6.2 Functionzing training and evaluation/testing loops"
      ],
      "metadata": {
        "id": "Pl8WMyRXyY2o"
      }
    },
    {
      "cell_type": "code",
      "source": [
        "def train_step(model: torch.nn.Module,\n",
        "               data_loader: torch.utils.data.DataLoader,\n",
        "               loss_fn: torch.nn.Module,\n",
        "               optimizer: torch.optim.Optimizer,\n",
        "               accuracy_fn,\n",
        "               device: torch.device = device):\n",
        "  \"\"\"Perform a training with model trying to learn on data_loader.\"\"\"\n",
        "  train_loss, train_acc = 0, 0\n",
        "\n",
        "  #Put model into training mode\n",
        "  model.train()\n",
        "  # Add a loop to loop through the training batches\n",
        "  for batch, (X, y) in enumerate(data_loader):\n",
        "    # Put data on target device\n",
        "    X, y = X.to(device), y.to(device)\n",
        "\n",
        "    # 1. Froward pass\n",
        "    y_pred = model(X)\n",
        "\n",
        "    # 2. Calculate loss and acc (per batch)\n",
        "    loss = loss_fn(y_pred, y)\n",
        "    train_loss += loss # accumulate train loss\n",
        "    train_acc += accuracy_fn(y_true=y,\n",
        "                             y_pred=y_pred.argmax(dim=1))\n",
        "\n",
        "    # 3. Optimizer zer grade\n",
        "    optimizer.zero_grad()\n",
        "\n",
        "    # 4. Loss backward\n",
        "    loss.backward()\n",
        "\n",
        "    # 5. optimizer step\n",
        "    optimizer.step()\n",
        "\n",
        "  # Dived total train loss by length of train lost\n",
        "  train_loss /= len(data_loader)\n",
        "  train_acc /= len(data_loader)\n",
        "  print(f\"Train loss: {train_loss:.5f} | Train acc: {train_acc:.2f}%\")"
      ],
      "metadata": {
        "id": "akLKDN8fyJpc"
      },
      "execution_count": 38,
      "outputs": []
    },
    {
      "cell_type": "code",
      "source": [
        "def test_step(model: torch.nn.Module,\n",
        "              data_loader: torch.utils.data.DataLoader,\n",
        "              loss_fn: torch.nn.Module,\n",
        "              accuracy_fn,\n",
        "              device: torch.device = device):\n",
        "  \"\"\"Perform a testing loop step on model going over data_loader\"\"\"\n",
        "\n",
        "  test_loss, test_acc = 0, 0\n",
        "  model.eval()\n",
        "  with torch.inference_mode():\n",
        "    for X, y in data_loader:\n",
        "      # Send data to target device\n",
        "      X, y = X.to(device), y.to(device)\n",
        "\n",
        "      # 1. Forward pass\n",
        "      test_pred = model(X)\n",
        "\n",
        "      # 2. Calculate loss\n",
        "      test_loss += loss_fn(test_pred, y)\n",
        "\n",
        "      # 3. Calculate accuracy\n",
        "      test_acc += accuracy_fn(y_true=y,\n",
        "                              y_pred=test_pred.argmax(dim=1))\n",
        "\n",
        "    # Calculate the test loss average per batch\n",
        "    test_loss /= len(data_loader)\n",
        "\n",
        "    # Calculate the test acc average per batch\n",
        "    test_acc /= len(data_loader)\n",
        "\n",
        "  # Print out\n",
        "  print(f\"Test loss: {test_loss:.4f}, Test acc: { test_acc:.2f}%\\n\")\n"
      ],
      "metadata": {
        "id": "9_QqXGvb0vJ0"
      },
      "execution_count": 59,
      "outputs": []
    },
    {
      "cell_type": "markdown",
      "source": [
        "![image.png](data:image/png;base64,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)"
      ],
      "metadata": {
        "id": "LebsBM3d4_zB"
      }
    },
    {
      "cell_type": "code",
      "source": [
        "config = dict(model = model_1,\n",
        "          data_loader = train_dataloader,\n",
        "          loss_fn = loss_fn,\n",
        "          optimizer = optimizer,\n",
        "          accuracy_fn = accuracy_fn,\n",
        "          device = device)"
      ],
      "metadata": {
        "id": "DtV6ES9N2Zjm"
      },
      "execution_count": 51,
      "outputs": []
    },
    {
      "cell_type": "code",
      "source": [
        "config_test = dict(model = model_1,\n",
        "                  data_loader = train_dataloader,\n",
        "                  loss_fn = loss_fn,\n",
        "                  accuracy_fn = accuracy_fn,\n",
        "                  device = device)"
      ],
      "metadata": {
        "id": "Ul1Sigvh4u-p"
      },
      "execution_count": 54,
      "outputs": []
    },
    {
      "cell_type": "code",
      "source": [
        "torch.manual_seed(42)\n",
        "\n",
        "train_time_start_on_gpu = timer()\n",
        "\n",
        "# Set the number of epochs\n",
        "epochs = 3\n",
        "\n",
        "# Create training and test loop\n",
        "for epoch in tqdm(range(epochs)):\n",
        "  print(f\"Epoch: {epoch}\\n-------\")\n",
        "  train_step(**config)\n",
        "  test_step(**config_test)\n",
        "\n",
        "# Calculate training time\n",
        "train_time_end_on_gpu = timer()\n",
        "total_train_time_model_0 = print_train_time(start=train_time_start_on_gpu,\n",
        "                                            end=train_time_end_on_gpu,\n",
        "                                            device=str(next(model_1.parameters()).device))"
      ],
      "metadata": {
        "id": "kts6Uw2s1DVd",
        "outputId": "5006e387-dc38-46f0-daad-e984f802dc64",
        "colab": {
          "base_uri": "https://localhost:8080/",
          "height": 321,
          "referenced_widgets": [
            "1f4a764ee2604b87ae193136016b403e",
            "e07c9f907b9e46a390e3dba4d260f28c",
            "d5a14b38afed41549d9d359a6ddd0ece",
            "7cca3ff1e2fc43999216ff03cdb4ddec",
            "d269876ccd6b481d92c6c3040ab26642",
            "48f0983b00ac4e9da2d9f2152a32b7f9",
            "a9bfe390555e4f5faa6e2d04b16979c6",
            "709696332a39467abcf0a80ea826a261",
            "fcbbc7ba5af44d1db2568b5e234cfc7b",
            "0b4174e754d04e6f95e2d152d13a9888",
            "027da619bfd043a0aa517a48e1131b95"
          ]
        }
      },
      "execution_count": 58,
      "outputs": [
        {
          "output_type": "display_data",
          "data": {
            "text/plain": [
              "  0%|          | 0/3 [00:00<?, ?it/s]"
            ],
            "application/vnd.jupyter.widget-view+json": {
              "version_major": 2,
              "version_minor": 0,
              "model_id": "1f4a764ee2604b87ae193136016b403e"
            }
          },
          "metadata": {}
        },
        {
          "output_type": "stream",
          "name": "stdout",
          "text": [
            "Epoch: 0\n",
            "-------\n",
            "Train loss: 0.82921 | Train acc: 68.61%\n",
            "Test loss: 0.8291, Test acc: 6.9e+01%\n",
            "\n",
            "Epoch: 1\n",
            "-------\n",
            "Train loss: 0.82320 | Train acc: 68.80%\n",
            "Test loss: 0.814, Test acc: 6.9e+01%\n",
            "\n",
            "Epoch: 2\n",
            "-------\n",
            "Train loss: 0.81874 | Train acc: 68.91%\n",
            "Test loss: 0.8282, Test acc: 6.9e+01%\n",
            "\n",
            "Train time on cuda:0: 47.472 seconds\n"
          ]
        }
      ]
    },
    {
      "cell_type": "markdown",
      "source": [
        "> **Note:** Sometimes , depending on your data/hardware you might find that your model trains faster on CPU than GPU.\n",
        ">\n",
        "> 1. It could be that the overhead for copying data/model to and from the GPU outweight the compute benefits offered by GPU.\n",
        ">2. The hardware you're using has a better CPU in terms compute capability than GPU"
      ],
      "metadata": {
        "id": "BaWdrxOT6p9j"
      }
    },
    {
      "cell_type": "code",
      "source": [],
      "metadata": {
        "id": "B39T7qMz4aga",
        "outputId": "a8bef758-1ad7-4798-8ce1-1cfbee1fa4e9",
        "colab": {
          "base_uri": "https://localhost:8080/"
        }
      },
      "execution_count": 55,
      "outputs": [
        {
          "output_type": "stream",
          "name": "stdout",
          "text": [
            "Test loss: 0.9091, Test acc: 6.7e+01%\n",
            "\n"
          ]
        }
      ]
    },
    {
      "cell_type": "code",
      "source": [],
      "metadata": {
        "id": "SrurnssQ5F39"
      },
      "execution_count": null,
      "outputs": []
    }
  ]
}