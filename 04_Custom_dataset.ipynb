{
  "nbformat": 4,
  "nbformat_minor": 0,
  "metadata": {
    "colab": {
      "provenance": [],
      "authorship_tag": "ABX9TyOu3Ge7ShV7I93Klm5UaoKP",
      "include_colab_link": true
    },
    "kernelspec": {
      "name": "python3",
      "display_name": "Python 3"
    },
    "language_info": {
      "name": "python"
    }
  },
  "cells": [
    {
      "cell_type": "markdown",
      "metadata": {
        "id": "view-in-github",
        "colab_type": "text"
      },
      "source": [
        "<a href=\"https://colab.research.google.com/github/mushroom3969/PyTorch_Class/blob/main/04_Custom_dataset.ipynb\" target=\"_parent\"><img src=\"https://colab.research.google.com/assets/colab-badge.svg\" alt=\"Open In Colab\"/></a>"
      ]
    },
    {
      "cell_type": "markdown",
      "source": [
        "# 04. Pytorch Custom Dataset Video Notebook"
      ],
      "metadata": {
        "id": "IvMUEEm6C4hP"
      }
    },
    {
      "cell_type": "markdown",
      "source": [
        "## 0. Importing pytorch and Setting up device-agnostic code"
      ],
      "metadata": {
        "id": "R80yT9x2DKOF"
      }
    },
    {
      "cell_type": "code",
      "execution_count": 1,
      "metadata": {
        "id": "xEelF7vp8gvp",
        "outputId": "12ec1d22-322c-402a-9ce5-f2e7ccbb9dad",
        "colab": {
          "base_uri": "https://localhost:8080/",
          "height": 37
        }
      },
      "outputs": [
        {
          "output_type": "execute_result",
          "data": {
            "text/plain": [
              "'2.2.1+cu121'"
            ],
            "application/vnd.google.colaboratory.intrinsic+json": {
              "type": "string"
            }
          },
          "metadata": {},
          "execution_count": 1
        }
      ],
      "source": [
        "import torch\n",
        "from torch import nn\n",
        "\n",
        "torch.__version__"
      ]
    },
    {
      "cell_type": "code",
      "source": [
        "# Setup device-agnostic code\n",
        "device = \"cuda\" if torch.cuda.is_available() else \"cpu\"\n",
        "device"
      ],
      "metadata": {
        "id": "MRB5kLNqDlN8",
        "outputId": "68982085-7b91-4a33-95e6-b2eec796f313",
        "colab": {
          "base_uri": "https://localhost:8080/",
          "height": 37
        }
      },
      "execution_count": 3,
      "outputs": [
        {
          "output_type": "execute_result",
          "data": {
            "text/plain": [
              "'cpu'"
            ],
            "application/vnd.google.colaboratory.intrinsic+json": {
              "type": "string"
            }
          },
          "metadata": {},
          "execution_count": 3
        }
      ]
    },
    {
      "cell_type": "markdown",
      "source": [
        "## 1. Get Data"
      ],
      "metadata": {
        "id": "RTRiJe_eEF0u"
      }
    },
    {
      "cell_type": "code",
      "source": [
        "import requests\n",
        "import zipfile\n",
        "from pathlib import Path\n",
        "\n",
        "# Setup path to a data loader\n",
        "data_path = Path(\"data/\")\n",
        "image_path = data_path / \"pizza_steak_sushi\"\n",
        "\n",
        "if image_path.is_dir():\n",
        "  print(f\"{image_path} already exist.. skip download\")\n",
        "else:\n",
        "  print(f\"{image_path} doesn't exist creating one...\")\n",
        "  image_path.mkdir(parents=True, exist_ok=True)\n",
        "\n",
        "with open(data_path/ \"pizza_steak_sushi.zip\", \"wb\") as f:\n",
        "  req = requests.get(\"https://github.com/mrdbourke/pytorch-deep-learning/raw/main/data/pizza_steak_sushi.zip\")\n",
        "  print(f\"Downloading data ...\")\n",
        "  f.write(req.content)\n",
        "\n",
        "with zipfile.ZipFile(data_path/\"pizza_steak_sushi.zip\", \"r\") as zip_ref:\n",
        "  print(\"Unziping data...\")\n",
        "  zip_ref.extractall(image_path)\n",
        "\n",
        "print(\"Done!!\")\n"
      ],
      "metadata": {
        "id": "4d-3zMADDvss",
        "outputId": "5c0611b3-9c5f-482d-cbd9-31cbc3f2a9fe",
        "colab": {
          "base_uri": "https://localhost:8080/"
        }
      },
      "execution_count": 6,
      "outputs": [
        {
          "output_type": "stream",
          "name": "stdout",
          "text": [
            "data/pizza_steak_sushi already exist.. skip download\n",
            "Downloading data ...\n",
            "Unziping data...\n"
          ]
        }
      ]
    },
    {
      "cell_type": "code",
      "source": [],
      "metadata": {
        "id": "9XZVAmlwEE9K"
      },
      "execution_count": null,
      "outputs": []
    }
  ]
}